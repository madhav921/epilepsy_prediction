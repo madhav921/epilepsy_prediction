{
 "cells": [
  {
   "cell_type": "code",
   "execution_count": 118,
   "metadata": {},
   "outputs": [
    {
     "name": "stdout",
     "output_type": "stream",
     "text": [
      "\u001b[31mERROR: Could not find a version that satisfies the requirement tensorflow==1.15.0 (from versions: 2.5.0, 2.5.1, 2.5.2, 2.5.3, 2.6.0rc0, 2.6.0rc1, 2.6.0rc2, 2.6.0, 2.6.1, 2.6.2, 2.6.3, 2.6.4, 2.6.5, 2.7.0rc0, 2.7.0rc1, 2.7.0, 2.7.1, 2.7.2, 2.7.3, 2.7.4, 2.8.0rc0, 2.8.0rc1, 2.8.0, 2.8.1, 2.8.2, 2.8.3, 2.8.4, 2.9.0rc0, 2.9.0rc1, 2.9.0rc2, 2.9.0, 2.9.1, 2.9.2, 2.9.3, 2.10.0rc0, 2.10.0rc1, 2.10.0rc2, 2.10.0rc3, 2.10.0, 2.10.1, 2.11.0rc0, 2.11.0rc1, 2.11.0rc2, 2.11.0, 2.11.1, 2.12.0rc0, 2.12.0rc1, 2.12.0, 2.13.0rc0, 2.13.0rc1)\u001b[0m\u001b[31m\r\n",
      "\u001b[0m\u001b[31mERROR: No matching distribution found for tensorflow==1.15.0\u001b[0m\u001b[31m\r\n",
      "\u001b[0m"
     ]
    }
   ],
   "source": [
    "!pip install tensorflow==1.15.0"
   ]
  },
  {
   "cell_type": "code",
   "execution_count": 117,
   "metadata": {},
   "outputs": [
    {
     "name": "stdout",
     "output_type": "stream",
     "text": [
      "2.12.0\n"
     ]
    }
   ],
   "source": [
    "# %tensorflow_version 1.x\n",
    "import tensorflow as tf\n",
    "print(tf.__version__)"
   ]
  },
  {
   "cell_type": "markdown",
   "metadata": {
    "id": "gpQAqDyRBDc3"
   },
   "source": [
    "## Siena Scalp"
   ]
  },
  {
   "cell_type": "code",
   "execution_count": 1,
   "metadata": {
    "colab": {
     "base_uri": "https://localhost:8080/"
    },
    "id": "fHKhE0zlBCIM",
    "outputId": "71c40c3e-0303-4132-fb4c-a890c97c07c7"
   },
   "outputs": [],
   "source": [
    "# !wget -r -N -c -np https://physionet.org/files/siena-scalp-eeg/1.0.0/"
   ]
  },
  {
   "cell_type": "markdown",
   "metadata": {
    "id": "O7lGYWIeHJlh"
   },
   "source": [
    "# EDA"
   ]
  },
  {
   "cell_type": "code",
   "execution_count": 2,
   "metadata": {
    "colab": {
     "base_uri": "https://localhost:8080/"
    },
    "id": "6URdzuBu7lZF",
    "outputId": "74bebdec-d7e6-4f01-ad39-ddd2e328b566"
   },
   "outputs": [
    {
     "name": "stdout",
     "output_type": "stream",
     "text": [
      "Collecting pyedflib\n",
      "  Downloading pyEDFlib-0.1.32-cp39-cp39-macosx_10_9_x86_64.whl (2.2 MB)\n",
      "\u001b[2K     \u001b[90m━━━━━━━━━━━━━━━━━━━━━━━━━━━━━━━━━━━━━━━━\u001b[0m \u001b[32m2.2/2.2 MB\u001b[0m \u001b[31m1.9 MB/s\u001b[0m eta \u001b[36m0:00:00\u001b[0m00:01\u001b[0m00:01\u001b[0m0m\n",
      "\u001b[?25hRequirement already satisfied: numpy>=1.9.1 in /Users/madhavp/opt/anaconda3/lib/python3.9/site-packages (from pyedflib) (1.24.2)\n",
      "Installing collected packages: pyedflib\n",
      "Successfully installed pyedflib-0.1.32\n"
     ]
    }
   ],
   "source": [
    "!pip install pyedflib"
   ]
  },
  {
   "cell_type": "code",
   "execution_count": 3,
   "metadata": {
    "id": "mTDbhans7Ph5"
   },
   "outputs": [],
   "source": [
    "import pyedflib\n",
    "import numpy as np\n",
    "\n",
    "# file_name = pyedflib.data.get_generator_filename()\n",
    "# f = pyedflib.EdfReader(file_name)\n",
    "# n = f.signals_in_file\n",
    "# signal_labels = f.getSignalLabels()\n",
    "# sigbufs = np.zeros((n, f.getNSamples()[0]))\n",
    "# for i in np.arange(n):\n",
    "#         sigbufs[i, :] = f.readSignal(i)"
   ]
  },
  {
   "cell_type": "code",
   "execution_count": 21,
   "metadata": {
    "id": "zws1KJD97l06"
   },
   "outputs": [],
   "source": [
    "# Load the dataset\n",
    "file_path = '/content/physionet.org/files/siena-scalp-eeg/1.0.0/PN00/PN00-1.edf'\n",
    "f = pyedflib.EdfReader(file_path)\n",
    "n_signals = f.signals_in_file\n",
    "# labels = np.load('siena_scalp_labels.npy')\n",
    "\n",
    "# Read signals from EDF file\n",
    "data = np.zeros((n_signals, f.getNSamples()[0]))\n",
    "for i in range(n_signals):\n",
    "    data[i, :] = f.readSignal(i)"
   ]
  },
  {
   "cell_type": "code",
   "execution_count": 9,
   "metadata": {
    "colab": {
     "base_uri": "https://localhost:8080/"
    },
    "id": "p5n_ft_qWY1r",
    "outputId": "accf6e08-ab3e-4e3d-df57-48f4eca3b7e2"
   },
   "outputs": [
    {
     "name": "stdout",
     "output_type": "stream",
     "text": [
      "35\n"
     ]
    }
   ],
   "source": [
    "print(n_signals)"
   ]
  },
  {
   "cell_type": "code",
   "execution_count": 9,
   "metadata": {
    "colab": {
     "base_uri": "https://localhost:8080/",
     "height": 401
    },
    "id": "We5zz22JEHHM",
    "outputId": "90ce1bc4-3dbc-4fd5-cefd-2d04bebec15d"
   },
   "outputs": [],
   "source": [
    "# Load the dataset\n",
    "file_path = '/Users/madhavp/physionet.org/files/chbmit/1.0.0/chb01/chb01_01.edf'\n",
    "f = pyedflib.EdfReader(file_path)\n",
    "n_signals = f.signals_in_file\n",
    "# labels = np.load('siena_scalp_labels.npy')\n",
    "\n",
    "# Read signals from EDF file\n",
    "data = np.zeros((n_signals, f.getNSamples()[0]))\n",
    "for i in range(n_signals):\n",
    "    data[i, :] = f.readSignal(i)"
   ]
  },
  {
   "cell_type": "code",
   "execution_count": 5,
   "metadata": {
    "colab": {
     "base_uri": "https://localhost:8080/"
    },
    "id": "zY2ra9kfEOqC",
    "outputId": "5bbf8642-6ec8-4b80-e788-fecb8de7c6d1"
   },
   "outputs": [
    {
     "name": "stdout",
     "output_type": "stream",
     "text": [
      "23\n"
     ]
    }
   ],
   "source": [
    "print(n_signals)"
   ]
  },
  {
   "cell_type": "code",
   "execution_count": 7,
   "metadata": {
    "colab": {
     "base_uri": "https://localhost:8080/",
     "height": 466
    },
    "id": "A_MFxg0KV3OI",
    "outputId": "69dc4eb1-1ebd-4617-c85c-dd959ee5d2a3"
   },
   "outputs": [
    {
     "data": {
      "text/plain": [
       "[<matplotlib.lines.Line2D at 0x7fe460432e20>]"
      ]
     },
     "execution_count": 7,
     "metadata": {},
     "output_type": "execute_result"
    },
    {
     "data": {
      "image/png": "[encoded data removed]",
      "text/plain": [
       "<Figure size 640x480 with 1 Axes>"
      ]
     },
     "metadata": {},
     "output_type": "display_data"
    }
   ],
   "source": [
    "import matplotlib.pyplot as plt\n",
    "%matplotlib inline\n",
    "\n",
    "\n",
    "plt.plot(data[10,:])"
   ]
  },
  {
   "cell_type": "code",
   "execution_count": 10,
   "metadata": {
    "colab": {
     "base_uri": "https://localhost:8080/",
     "height": 466
    },
    "id": "9TsvGfeTV7hn",
    "outputId": "d9451c57-66bd-4567-ce19-515b9842b960"
   },
   "outputs": [
    {
     "data": {
      "text/plain": [
       "[<matplotlib.lines.Line2D at 0x7fe456512910>]"
      ]
     },
     "execution_count": 10,
     "metadata": {},
     "output_type": "execute_result"
    },
    {
     "data": {
      "image/png": "[encoded data removed]",
      "text/plain": [
       "<Figure size 640x480 with 1 Axes>"
      ]
     },
     "metadata": {},
     "output_type": "display_data"
    }
   ],
   "source": [
    "plt.plot(f.readSignal(7))"
   ]
  },
  {
   "cell_type": "code",
   "execution_count": 6,
   "metadata": {
    "colab": {
     "base_uri": "https://localhost:8080/",
     "height": 489
    },
    "id": "M1MvbzKxEdcY",
    "outputId": "6940b697-2f04-4683-fb4f-59580c9d8d41"
   },
   "outputs": [
    {
     "name": "stdout",
     "output_type": "stream",
     "text": [
      "(100000,)\n",
      "(921600,)\n"
     ]
    },
    {
     "data": {
      "image/png": "[encoded data removed]",
      "text/plain": [
       "<Figure size 640x480 with 1 Axes>"
      ]
     },
     "metadata": {},
     "output_type": "display_data"
    }
   ],
   "source": [
    "import numpy as np\n",
    "from scipy import signal\n",
    "from scipy.fft import fftshift\n",
    "import matplotlib.pyplot as plt\n",
    "rng = np.random.default_rng()\n",
    "import scipy.signal\n",
    "\n",
    "fs = 10e3\n",
    "N = 1e5\n",
    "amp = 2 * np.sqrt(2)\n",
    "noise_power = 0.01 * fs / 2\n",
    "time = np.arange(N) / float(fs)\n",
    "mod = 500*np.cos(2*np.pi*0.25*time)\n",
    "carrier = amp * np.sin(2*np.pi*3e3*time + mod)\n",
    "noise = rng.normal(scale=np.sqrt(noise_power), size=time.shape)\n",
    "noise *= np.exp(-time/5)\n",
    "x = carrier + noise\n",
    "\n",
    "print(x.shape)\n",
    "print(data[20].shape)\n",
    "f, t, Sxx = signal.spectrogram(x, fs)\n",
    "f, t, Sxx = signal.spectrogram(data[20], 1e6)\n",
    "plt.pcolormesh(t, f, Sxx)\n",
    "plt.ylabel('Frequency [Hz]')\n",
    "plt.xlabel('Time [sec]')\n",
    "plt.show()"
   ]
  },
  {
   "cell_type": "code",
   "execution_count": null,
   "metadata": {
    "id": "mFS0bjlfWJUt"
   },
   "outputs": [],
   "source": []
  },
  {
   "cell_type": "markdown",
   "metadata": {
    "id": "Su2TLAr3fYq3"
   },
   "source": [
    "## CHB-MIT"
   ]
  },
  {
   "cell_type": "code",
   "execution_count": 12,
   "metadata": {
    "colab": {
     "base_uri": "https://localhost:8080/"
    },
    "id": "cUtT6VQufbPe",
    "outputId": "3147e29f-4d66-4df2-8b58-d2620efe5252"
   },
   "outputs": [],
   "source": [
    "# !gsutil -m cp -r gs://chbmit-1.0.0.physionet.org DESTINATION"
   ]
  },
  {
   "cell_type": "code",
   "execution_count": 11,
   "metadata": {
    "colab": {
     "base_uri": "https://localhost:8080/"
    },
    "id": "QawFtvA6fcDH",
    "outputId": "0a6b5fd9-60e3-4d09-bf5c-ffa915eaeaed"
   },
   "outputs": [],
   "source": [
    "# !wget -r -N -c -np https://physionet.org/files/chbmit/1.0.0/"
   ]
  },
  {
   "cell_type": "code",
   "execution_count": 13,
   "metadata": {
    "colab": {
     "base_uri": "https://localhost:8080/"
    },
    "id": "CCEX8o_Afs9r",
    "outputId": "c31748e4-c34a-47cb-8130-8ef528676f65"
   },
   "outputs": [
    {
     "name": "stdout",
     "output_type": "stream",
     "text": [
      "Data Sampling Rate: 256 Hz\n",
      "*************************\n",
      "\n",
      "Channels in EDF Files:\n",
      "**********************\n",
      "Channel 1: FP1-F7\n",
      "Channel 2: F7-T7\n",
      "Channel 3: T7-P7\n",
      "Channel 4: P7-O1\n",
      "Channel 5: FP1-F3\n",
      "Channel 6: F3-C3\n",
      "Channel 7: C3-P3\n",
      "Channel 8: P3-O1\n",
      "Channel 9: FP2-F4\n",
      "Channel 10: F4-C4\n",
      "Channel 11: C4-P4\n",
      "Channel 12: P4-O2\n",
      "Channel 13: FP2-F8\n",
      "Channel 14: F8-T8\n",
      "Channel 15: T8-P8\n",
      "Channel 16: P8-O2\n",
      "Channel 17: FZ-CZ\n",
      "Channel 18: CZ-PZ\n",
      "Channel 19: P7-T7\n",
      "Channel 20: T7-FT9\n",
      "Channel 21: FT9-FT10\n",
      "Channel 22: FT10-T8\n",
      "Channel 23: T8-P8\n",
      "\n",
      "File Name: chb01_01.edf\n",
      "File Start Time: 11:42:54\n",
      "File End Time: 12:42:54\n",
      "Number of Seizures in File: 0\n",
      "\n",
      "File Name: chb01_02.edf\n",
      "File Start Time: 12:42:57\n",
      "File End Time: 13:42:57\n",
      "Number of Seizures in File: 0\n",
      "\n",
      "File Name: chb01_03.edf\n",
      "File Start Time: 13:43:04\n",
      "File End Time: 14:43:04\n",
      "Number of Seizures in File: 1\n",
      "Seizure Start Time: 2996 seconds\n",
      "Seizure End Time: 3036 seconds\n",
      "\n",
      "File Name: chb01_04.edf\n",
      "File Start Time: 14:43:12\n",
      "File End Time: 15:43:12\n",
      "Number of Seizures in File: 1\n",
      "Seizure Start Time: 1467 seconds\n",
      "Seizure End Time: 1494 seconds\n",
      "\n",
      "File Name: chb01_05.edf\n",
      "File Start Time: 15:43:19\n",
      "File End Time: 16:43:19\n",
      "Number of Seizures in File: 0\n",
      "\n",
      "File Name: chb01_06.edf\n",
      "File Start Time: 16:43:26\n",
      "File End Time: 17:43:26\n",
      "Number of Seizures in File: 0\n",
      "\n",
      "File Name: chb01_07.edf\n",
      "File Start Time: 17:43:33\n",
      "File End Time: 18:43:33\n",
      "Number of Seizures in File: 0\n",
      "\n",
      "File Name: chb01_08.edf\n",
      "File Start Time: 18:43:40\n",
      "File End Time: 19:43:40\n",
      "Number of Seizures in File: 0\n",
      "\n",
      "File Name: chb01_09.edf\n",
      "File Start Time: 19:43:56\n",
      "File End Time: 20:43:56\n",
      "Number of Seizures in File: 0\n",
      "\n",
      "File Name: chb01_10.edf\n",
      "File Start Time: 20:44:07\n",
      "File End Time: 21:44:07\n",
      "Number of Seizures in File: 0\n",
      "\n",
      "File Name: chb01_11.edf\n",
      "File Start Time: 21:44:14\n",
      "File End Time: 22:44:14\n",
      "Number of Seizures in File: 0\n",
      "\n",
      "File Name: chb01_12.edf\n",
      "File Start Time: 22:44:22\n",
      "File End Time: 23:44:22\n",
      "Number of Seizures in File: 0\n",
      "\n",
      "File Name: chb01_13.edf\n",
      "File Start Time: 23:44:29\n",
      "File End Time: 24:44:29\n",
      "Number of Seizures in File: 0\n",
      "\n",
      "File Name: chb01_14.edf\n",
      "File Start Time: 00:44:37\n",
      "File End Time: 1:44:37\n",
      "Number of Seizures in File: 0\n",
      "\n",
      "File Name: chb01_15.edf\n",
      "File Start Time: 01:44:44\n",
      "File End Time: 2:44:44\n",
      "Number of Seizures in File: 1\n",
      "Seizure Start Time: 1732 seconds\n",
      "Seizure End Time: 1772 seconds\n",
      "\n",
      "File Name: chb01_16.edf\n",
      "File Start Time: 02:44:51\n",
      "File End Time: 3:44:51\n",
      "Number of Seizures in File: 1\n",
      "Seizure Start Time: 1015 seconds\n",
      "Seizure End Time: 1066 seconds\n",
      "\n",
      "File Name: chb01_17.edf\n",
      "File Start Time: 03:44:59\n",
      "File End Time: 4:44:59\n",
      "Number of Seizures in File: 0\n",
      "\n",
      "File Name: chb01_18.edf\n",
      "File Start Time: 04:45:06\n",
      "File End Time: 5:45:06\n",
      "Number of Seizures in File: 1\n",
      "Seizure Start Time: 1720 seconds\n",
      "Seizure End Time: 1810 seconds\n",
      "\n",
      "File Name: chb01_19.edf\n",
      "File Start Time: 05:45:13\n",
      "File End Time: 6:45:13\n",
      "Number of Seizures in File: 0\n",
      "\n",
      "File Name: chb01_20.edf\n",
      "File Start Time: 06:45:20\n",
      "File End Time: 7:29:43\n",
      "Number of Seizures in File: 0\n",
      "\n",
      "File Name: chb01_21.edf\n",
      "File Start Time: 07:33:46\n",
      "File End Time: 8:33:46\n",
      "Number of Seizures in File: 1\n",
      "Seizure Start Time: 327 seconds\n",
      "Seizure End Time: 420 seconds\n",
      "\n",
      "File Name: chb01_22.edf\n",
      "File Start Time: 08:33:49\n",
      "File End Time: 9:33:49\n",
      "Number of Seizures in File: 0\n",
      "\n",
      "File Name: chb01_23.edf\n",
      "File Start Time: 09:33:58\n",
      "File End Time: 10:33:58\n",
      "Number of Seizures in File: 0\n",
      "\n",
      "File Name: chb01_24.edf\n",
      "File Start Time: 10:34:06\n",
      "File End Time: 11:34:06\n",
      "Number of Seizures in File: 0\n",
      "\n",
      "File Name: chb01_25.edf\n",
      "File Start Time: 11:34:14\n",
      "File End Time: 12:34:14\n",
      "Number of Seizures in File: 0\n",
      "\n",
      "File Name: chb01_26.edf\n",
      "File Start Time: 12:34:22\n",
      "File End Time: 13:13:07\n",
      "Number of Seizures in File: 1\n",
      "Seizure Start Time: 1862 seconds\n",
      "Seizure End Time: 1963 seconds\n",
      "\n",
      "File Name: chb01_27.edf\n",
      "File Start Time: 13:13:21\n",
      "File End Time: 13:23:21\n",
      "Number of Seizures in File: 0\n",
      "\n",
      "File Name: chb01_29.edf\n",
      "File Start Time: 13:24:08\n",
      "File End Time: 14:24:08\n",
      "Number of Seizures in File: 0\n",
      "\n",
      "File Name: chb01_30.edf\n",
      "File Start Time: 14:24:15\n",
      "File End Time: 15:24:15\n",
      "Number of Seizures in File: 0\n",
      "\n",
      "File Name: chb01_31.edf\n",
      "File Start Time: 15:24:24\n",
      "File End Time: 16:24:24\n",
      "Number of Seizures in File: 0\n",
      "\n",
      "File Name: chb01_32.edf\n",
      "File Start Time: 16:24:32\n",
      "File End Time: 17:24:32\n",
      "Number of Seizures in File: 0\n",
      "\n",
      "File Name: chb01_33.edf\n",
      "File Start Time: 17:24:39\n",
      "File End Time: 18:24:39\n",
      "Number of Seizures in File: 0\n",
      "\n",
      "File Name: chb01_34.edf\n",
      "File Start Time: 18:24:46\n",
      "File End Time: 19:24:46\n",
      "Number of Seizures in File: 0\n",
      "\n",
      "File Name: chb01_36.edf\n",
      "File Start Time: 22:14:43\n",
      "File End Time: 23:14:43\n",
      "Number of Seizures in File: 0\n",
      "\n",
      "File Name: chb01_37.edf\n",
      "File Start Time: 23:14:46\n",
      "File End Time: 24:14:46\n",
      "Number of Seizures in File: 0\n",
      "\n",
      "File Name: chb01_38.edf\n",
      "File Start Time: 00:14:53\n",
      "File End Time: 1:14:53\n",
      "Number of Seizures in File: 0\n",
      "\n",
      "File Name: chb01_39.edf\n",
      "File Start Time: 01:15:01\n",
      "File End Time: 2:15:01\n",
      "Number of Seizures in File: 0\n",
      "\n",
      "File Name: chb01_40.edf\n",
      "File Start Time: 02:15:08\n",
      "File End Time: 3:15:08\n",
      "Number of Seizures in File: 0\n",
      "\n",
      "File Name: chb01_41.edf\n",
      "File Start Time: 03:15:15\n",
      "File End Time: 4:15:15\n",
      "Number of Seizures in File: 0\n",
      "\n",
      "File Name: chb01_42.edf\n",
      "File Start Time: 04:15:22\n",
      "File End Time: 5:15:22\n",
      "Number of Seizures in File: 0\n",
      "\n",
      "File Name: chb01_43.edf\n",
      "File Start Time: 05:15:29\n",
      "File End Time: 6:15:29\n",
      "Number of Seizures in File: 0\n",
      "\n",
      "File Name: chb01_46.edf\n",
      "File Start Time: 08:15:51\n",
      "File End Time: 9:15:51\n",
      "Number of Seizures in File: 0\n",
      "\n"
     ]
    }
   ],
   "source": [
    "#Just to see if files got loaded.\n",
    "file = '/Users/madhavp/physionet.org/files/chbmit/1.0.0/chb01/chb01-summary.txt'\n",
    "f = open(file, 'r')\n",
    "file_contents = f.read()\n",
    "print(file_contents)"
   ]
  },
  {
   "cell_type": "code",
   "execution_count": 14,
   "metadata": {
    "colab": {
     "base_uri": "https://localhost:8080/",
     "height": 508
    },
    "id": "HNB0zakJhIQH",
    "outputId": "981eeed9-1991-41ff-88a6-051b3b581075"
   },
   "outputs": [
    {
     "name": "stderr",
     "output_type": "stream",
     "text": [
      "/Users/madhavp/opt/anaconda3/lib/python3.9/site-packages/matplotlib/cbook/__init__.py:1298: ComplexWarning: Casting complex values to real discards the imaginary part\n",
      "  return np.asarray(x, float)\n"
     ]
    },
    {
     "data": {
      "image/png": "[encoded data removed]",
      "text/plain": [
       "<Figure size 640x480 with 2 Axes>"
      ]
     },
     "metadata": {},
     "output_type": "display_data"
    }
   ],
   "source": [
    "# Just to check if things are syncing in.\n",
    "from pyedflib import highlevel\n",
    "import numpy as np\n",
    "import matplotlib.pyplot as plt\n",
    "\n",
    "# read an edf file\n",
    "file2 = '/Users/madhavp/physionet.org/files/chbmit/1.0.0/chb01/chb01_01.edf'\n",
    "# file2 = '/content/physionet.org/files/siena-scalp-eeg/1.0.0/PN00/PN00-1.edf'\n",
    "signals, signal_headers, header = highlevel.read_edf(file2)\n",
    "\n",
    "dft = np.fft.fft(signals, axis=1)\n",
    "\n",
    "plt.subplot(2,1,1)\n",
    "plt.plot(np.transpose(signals[0,:1000]))\n",
    "plt.title('Raw signals')\n",
    "plt.subplot(2,1,2)\n",
    "plt.plot(np.transpose(dft[0,:1000]))\n",
    "plt.title('Fourier transform')\n",
    "plt.show()"
   ]
  },
  {
   "cell_type": "code",
   "execution_count": 15,
   "metadata": {
    "colab": {
     "base_uri": "https://localhost:8080/"
    },
    "id": "XUPwc03XNWgz",
    "outputId": "b6c973c9-6c02-40e5-f39b-564f71f0ac10"
   },
   "outputs": [
    {
     "name": "stdout",
     "output_type": "stream",
     "text": [
      "[{'label': 'FP1-F7', 'dimension': 'uV', 'sample_rate': 256.0, 'sample_frequency': 256.0, 'physical_max': 800.0, 'physical_min': -800.0, 'digital_max': 2047, 'digital_min': -2048, 'prefilter': '', 'transducer': ''}, {'label': 'F7-T7', 'dimension': 'uV', 'sample_rate': 256.0, 'sample_frequency': 256.0, 'physical_max': 800.0, 'physical_min': -800.0, 'digital_max': 2047, 'digital_min': -2048, 'prefilter': '', 'transducer': ''}, {'label': 'T7-P7', 'dimension': 'uV', 'sample_rate': 256.0, 'sample_frequency': 256.0, 'physical_max': 800.0, 'physical_min': -800.0, 'digital_max': 2047, 'digital_min': -2048, 'prefilter': '', 'transducer': ''}, {'label': 'P7-O1', 'dimension': 'uV', 'sample_rate': 256.0, 'sample_frequency': 256.0, 'physical_max': 800.0, 'physical_min': -800.0, 'digital_max': 2047, 'digital_min': -2048, 'prefilter': '', 'transducer': ''}, {'label': 'FP1-F3', 'dimension': 'uV', 'sample_rate': 256.0, 'sample_frequency': 256.0, 'physical_max': 800.0, 'physical_min': -800.0, 'digital_max': 2047, 'digital_min': -2048, 'prefilter': '', 'transducer': ''}, {'label': 'F3-C3', 'dimension': 'uV', 'sample_rate': 256.0, 'sample_frequency': 256.0, 'physical_max': 800.0, 'physical_min': -800.0, 'digital_max': 2047, 'digital_min': -2048, 'prefilter': '', 'transducer': ''}, {'label': 'C3-P3', 'dimension': 'uV', 'sample_rate': 256.0, 'sample_frequency': 256.0, 'physical_max': 800.0, 'physical_min': -800.0, 'digital_max': 2047, 'digital_min': -2048, 'prefilter': '', 'transducer': ''}, {'label': 'P3-O1', 'dimension': 'uV', 'sample_rate': 256.0, 'sample_frequency': 256.0, 'physical_max': 800.0, 'physical_min': -800.0, 'digital_max': 2047, 'digital_min': -2048, 'prefilter': '', 'transducer': ''}, {'label': 'FP2-F4', 'dimension': 'uV', 'sample_rate': 256.0, 'sample_frequency': 256.0, 'physical_max': 800.0, 'physical_min': -800.0, 'digital_max': 2047, 'digital_min': -2048, 'prefilter': '', 'transducer': ''}, {'label': 'F4-C4', 'dimension': 'uV', 'sample_rate': 256.0, 'sample_frequency': 256.0, 'physical_max': 800.0, 'physical_min': -800.0, 'digital_max': 2047, 'digital_min': -2048, 'prefilter': '', 'transducer': ''}, {'label': 'C4-P4', 'dimension': 'uV', 'sample_rate': 256.0, 'sample_frequency': 256.0, 'physical_max': 800.0, 'physical_min': -800.0, 'digital_max': 2047, 'digital_min': -2048, 'prefilter': '', 'transducer': ''}, {'label': 'P4-O2', 'dimension': 'uV', 'sample_rate': 256.0, 'sample_frequency': 256.0, 'physical_max': 800.0, 'physical_min': -800.0, 'digital_max': 2047, 'digital_min': -2048, 'prefilter': '', 'transducer': ''}, {'label': 'FP2-F8', 'dimension': 'uV', 'sample_rate': 256.0, 'sample_frequency': 256.0, 'physical_max': 800.0, 'physical_min': -800.0, 'digital_max': 2047, 'digital_min': -2048, 'prefilter': '', 'transducer': ''}, {'label': 'F8-T8', 'dimension': 'uV', 'sample_rate': 256.0, 'sample_frequency': 256.0, 'physical_max': 800.0, 'physical_min': -800.0, 'digital_max': 2047, 'digital_min': -2048, 'prefilter': '', 'transducer': ''}, {'label': 'T8-P8', 'dimension': 'uV', 'sample_rate': 256.0, 'sample_frequency': 256.0, 'physical_max': 800.0, 'physical_min': -800.0, 'digital_max': 2047, 'digital_min': -2048, 'prefilter': '', 'transducer': ''}, {'label': 'P8-O2', 'dimension': 'uV', 'sample_rate': 256.0, 'sample_frequency': 256.0, 'physical_max': 800.0, 'physical_min': -800.0, 'digital_max': 2047, 'digital_min': -2048, 'prefilter': '', 'transducer': ''}, {'label': 'FZ-CZ', 'dimension': 'uV', 'sample_rate': 256.0, 'sample_frequency': 256.0, 'physical_max': 800.0, 'physical_min': -800.0, 'digital_max': 2047, 'digital_min': -2048, 'prefilter': '', 'transducer': ''}, {'label': 'CZ-PZ', 'dimension': 'uV', 'sample_rate': 256.0, 'sample_frequency': 256.0, 'physical_max': 800.0, 'physical_min': -800.0, 'digital_max': 2047, 'digital_min': -2048, 'prefilter': '', 'transducer': ''}, {'label': 'P7-T7', 'dimension': 'uV', 'sample_rate': 256.0, 'sample_frequency': 256.0, 'physical_max': 800.0, 'physical_min': -800.0, 'digital_max': 2047, 'digital_min': -2048, 'prefilter': '', 'transducer': ''}, {'label': 'T7-FT9', 'dimension': 'uV', 'sample_rate': 256.0, 'sample_frequency': 256.0, 'physical_max': 800.0, 'physical_min': -800.0, 'digital_max': 2047, 'digital_min': -2048, 'prefilter': '', 'transducer': ''}, {'label': 'FT9-FT10', 'dimension': 'uV', 'sample_rate': 256.0, 'sample_frequency': 256.0, 'physical_max': 800.0, 'physical_min': -800.0, 'digital_max': 2047, 'digital_min': -2048, 'prefilter': '', 'transducer': ''}, {'label': 'FT10-T8', 'dimension': 'uV', 'sample_rate': 256.0, 'sample_frequency': 256.0, 'physical_max': 800.0, 'physical_min': -800.0, 'digital_max': 2047, 'digital_min': -2048, 'prefilter': '', 'transducer': ''}, {'label': 'T8-P8', 'dimension': 'uV', 'sample_rate': 256.0, 'sample_frequency': 256.0, 'physical_max': 800.0, 'physical_min': -800.0, 'digital_max': 2047, 'digital_min': -2048, 'prefilter': '', 'transducer': ''}]\n"
     ]
    }
   ],
   "source": [
    "print(signal_headers)"
   ]
  },
  {
   "cell_type": "code",
   "execution_count": 113,
   "metadata": {
    "colab": {
     "base_uri": "https://localhost:8080/"
    },
    "id": "D3krKSuHhb3B",
    "outputId": "868bde15-0408-47a7-b16c-01d93f036905"
   },
   "outputs": [
    {
     "name": "stdout",
     "output_type": "stream",
     "text": [
      "/Users/madhavp/physionet.org/files/chbmit/1.0.0/chb01/chb01_01.edf\n",
      "/Users/madhavp/physionet.org/files/chbmit/1.0.0/chb01/chb01_02.edf\n",
      "/Users/madhavp/physionet.org/files/chbmit/1.0.0/chb01/chb01_03.edf\n",
      "/Users/madhavp/physionet.org/files/chbmit/1.0.0/chb01/chb01_04.edf\n",
      "/Users/madhavp/physionet.org/files/chbmit/1.0.0/chb01/chb01_05.edf\n",
      "/Users/madhavp/physionet.org/files/chbmit/1.0.0/chb01/chb01_06.edf\n",
      "/Users/madhavp/physionet.org/files/chbmit/1.0.0/chb01/chb01_07.edf\n",
      "/Users/madhavp/physionet.org/files/chbmit/1.0.0/chb01/chb01_08.edf\n",
      "/Users/madhavp/physionet.org/files/chbmit/1.0.0/chb01/chb01_09.edf\n",
      "/Users/madhavp/physionet.org/files/chbmit/1.0.0/chb01/chb01_10.edf\n",
      "/Users/madhavp/physionet.org/files/chbmit/1.0.0/chb01/chb01_11.edf\n",
      "/Users/madhavp/physionet.org/files/chbmit/1.0.0/chb01/chb01_12.edf\n",
      "/Users/madhavp/physionet.org/files/chbmit/1.0.0/chb01/chb01_13.edf\n",
      "/Users/madhavp/physionet.org/files/chbmit/1.0.0/chb01/chb01_14.edf\n",
      "/Users/madhavp/physionet.org/files/chbmit/1.0.0/chb01/chb01_15.edf\n",
      "/Users/madhavp/physionet.org/files/chbmit/1.0.0/chb01/chb01_16.edf\n",
      "/Users/madhavp/physionet.org/files/chbmit/1.0.0/chb01/chb01_17.edf\n",
      "/Users/madhavp/physionet.org/files/chbmit/1.0.0/chb01/chb01_18.edf\n",
      "/Users/madhavp/physionet.org/files/chbmit/1.0.0/chb01/chb01_19.edf\n",
      "/Users/madhavp/physionet.org/files/chbmit/1.0.0/chb01/chb01_20.edf\n",
      "/Users/madhavp/physionet.org/files/chbmit/1.0.0/chb01/chb01_21.edf\n",
      "/Users/madhavp/physionet.org/files/chbmit/1.0.0/chb01/chb01_22.edf\n",
      "/Users/madhavp/physionet.org/files/chbmit/1.0.0/chb01/chb01_23.edf\n",
      "/Users/madhavp/physionet.org/files/chbmit/1.0.0/chb01/chb01_24.edf\n",
      "/Users/madhavp/physionet.org/files/chbmit/1.0.0/chb01/chb01_25.edf\n",
      "/Users/madhavp/physionet.org/files/chbmit/1.0.0/chb01/chb01_26.edf\n",
      "/Users/madhavp/physionet.org/files/chbmit/1.0.0/chb01/chb01_27.edf\n",
      "/Users/madhavp/physionet.org/files/chbmit/1.0.0/chb01/chb01_29.edf\n",
      "/Users/madhavp/physionet.org/files/chbmit/1.0.0/chb01/chb01_30.edf\n",
      "/Users/madhavp/physionet.org/files/chbmit/1.0.0/chb01/chb01_31.edf\n",
      "/Users/madhavp/physionet.org/files/chbmit/1.0.0/chb01/chb01_32.edf\n",
      "/Users/madhavp/physionet.org/files/chbmit/1.0.0/chb01/chb01_33.edf\n",
      "/Users/madhavp/physionet.org/files/chbmit/1.0.0/chb01/chb01_34.edf\n",
      "/Users/madhavp/physionet.org/files/chbmit/1.0.0/chb01/chb01_36.edf\n",
      "/Users/madhavp/physionet.org/files/chbmit/1.0.0/chb01/chb01_37.edf\n",
      "/Users/madhavp/physionet.org/files/chbmit/1.0.0/chb01/chb01_38.edf\n",
      "/Users/madhavp/physionet.org/files/chbmit/1.0.0/chb01/chb01_39.edf\n",
      "/Users/madhavp/physionet.org/files/chbmit/1.0.0/chb01/chb01_40.edf\n",
      "/Users/madhavp/physionet.org/files/chbmit/1.0.0/chb01/chb01_41.edf\n",
      "/Users/madhavp/physionet.org/files/chbmit/1.0.0/chb01/chb01_42.edf\n",
      "/Users/madhavp/physionet.org/files/chbmit/1.0.0/chb01/chb01_43.edf\n",
      "/Users/madhavp/physionet.org/files/chbmit/1.0.0/chb01/chb01_46.edf\n",
      "/Users/madhavp/physionet.org/files/chbmit/1.0.0/chb02/chb02_01.edf\n",
      "/Users/madhavp/physionet.org/files/chbmit/1.0.0/chb02/chb02_02.edf\n",
      "/Users/madhavp/physionet.org/files/chbmit/1.0.0/chb02/chb02_03.edf\n",
      "/Users/madhavp/physionet.org/files/chbmit/1.0.0/chb02/chb02_04.edf\n",
      "/Users/madhavp/physionet.org/files/chbmit/1.0.0/chb02/chb02_05.edf\n",
      "/Users/madhavp/physionet.org/files/chbmit/1.0.0/chb02/chb02_06.edf\n",
      "/Users/madhavp/physionet.org/files/chbmit/1.0.0/chb02/chb02_07.edf\n",
      "/Users/madhavp/physionet.org/files/chbmit/1.0.0/chb02/chb02_08.edf\n",
      "/Users/madhavp/physionet.org/files/chbmit/1.0.0/chb02/chb02_09.edf\n",
      "/Users/madhavp/physionet.org/files/chbmit/1.0.0/chb02/chb02_10.edf\n",
      "/Users/madhavp/physionet.org/files/chbmit/1.0.0/chb02/chb02_11.edf\n",
      "/Users/madhavp/physionet.org/files/chbmit/1.0.0/chb02/chb02_12.edf\n",
      "/Users/madhavp/physionet.org/files/chbmit/1.0.0/chb02/chb02_13.edf\n",
      "/Users/madhavp/physionet.org/files/chbmit/1.0.0/chb02/chb02_14.edf\n",
      "/Users/madhavp/physionet.org/files/chbmit/1.0.0/chb02/chb02_15.edf\n",
      "/Users/madhavp/physionet.org/files/chbmit/1.0.0/chb02/chb02_16+.edf\n",
      "/Users/madhavp/physionet.org/files/chbmit/1.0.0/chb02/chb02_16.edf\n",
      "/Users/madhavp/physionet.org/files/chbmit/1.0.0/chb02/chb02_17.edf\n",
      "/Users/madhavp/physionet.org/files/chbmit/1.0.0/chb02/chb02_18.edf\n",
      "/Users/madhavp/physionet.org/files/chbmit/1.0.0/chb02/chb02_19.edf\n",
      "/Users/madhavp/physionet.org/files/chbmit/1.0.0/chb02/chb02_20.edf\n",
      "/Users/madhavp/physionet.org/files/chbmit/1.0.0/chb02/chb02_21.edf\n",
      "/Users/madhavp/physionet.org/files/chbmit/1.0.0/chb02/chb02_22.edf\n",
      "/Users/madhavp/physionet.org/files/chbmit/1.0.0/chb02/chb02_23.edf\n",
      "/Users/madhavp/physionet.org/files/chbmit/1.0.0/chb02/chb02_24.edf\n",
      "/Users/madhavp/physionet.org/files/chbmit/1.0.0/chb02/chb02_25.edf\n",
      "/Users/madhavp/physionet.org/files/chbmit/1.0.0/chb02/chb02_26.edf\n",
      "/Users/madhavp/physionet.org/files/chbmit/1.0.0/chb02/chb02_27.edf\n",
      "/Users/madhavp/physionet.org/files/chbmit/1.0.0/chb02/chb02_28.edf\n",
      "/Users/madhavp/physionet.org/files/chbmit/1.0.0/chb02/chb02_29.edf\n",
      "/Users/madhavp/physionet.org/files/chbmit/1.0.0/chb02/chb02_30.edf\n",
      "/Users/madhavp/physionet.org/files/chbmit/1.0.0/chb02/chb02_31.edf\n",
      "/Users/madhavp/physionet.org/files/chbmit/1.0.0/chb02/chb02_32.edf\n",
      "/Users/madhavp/physionet.org/files/chbmit/1.0.0/chb02/chb02_33.edf\n",
      "/Users/madhavp/physionet.org/files/chbmit/1.0.0/chb02/chb02_34.edf\n",
      "/Users/madhavp/physionet.org/files/chbmit/1.0.0/chb02/chb02_35.edf\n",
      "/Users/madhavp/physionet.org/files/chbmit/1.0.0/chb03/chb03_01.edf\n",
      "/Users/madhavp/physionet.org/files/chbmit/1.0.0/chb03/chb03_02.edf\n",
      "/Users/madhavp/physionet.org/files/chbmit/1.0.0/chb03/chb03_03.edf\n",
      "/Users/madhavp/physionet.org/files/chbmit/1.0.0/chb03/chb03_04.edf\n",
      "/Users/madhavp/physionet.org/files/chbmit/1.0.0/chb03/chb03_05.edf\n",
      "/Users/madhavp/physionet.org/files/chbmit/1.0.0/chb03/chb03_06.edf\n",
      "/Users/madhavp/physionet.org/files/chbmit/1.0.0/chb03/chb03_07.edf\n",
      "/Users/madhavp/physionet.org/files/chbmit/1.0.0/chb03/chb03_08.edf\n",
      "/Users/madhavp/physionet.org/files/chbmit/1.0.0/chb03/chb03_09.edf\n",
      "/Users/madhavp/physionet.org/files/chbmit/1.0.0/chb03/chb03_10.edf\n",
      "/Users/madhavp/physionet.org/files/chbmit/1.0.0/chb03/chb03_11.edf\n",
      "/Users/madhavp/physionet.org/files/chbmit/1.0.0/chb03/chb03_12.edf\n",
      "/Users/madhavp/physionet.org/files/chbmit/1.0.0/chb03/chb03_13.edf\n",
      "/Users/madhavp/physionet.org/files/chbmit/1.0.0/chb03/chb03_14.edf\n",
      "/Users/madhavp/physionet.org/files/chbmit/1.0.0/chb03/chb03_15.edf\n",
      "/Users/madhavp/physionet.org/files/chbmit/1.0.0/chb03/chb03_16.edf\n",
      "/Users/madhavp/physionet.org/files/chbmit/1.0.0/chb03/chb03_17.edf\n",
      "/Users/madhavp/physionet.org/files/chbmit/1.0.0/chb03/chb03_18.edf\n",
      "/Users/madhavp/physionet.org/files/chbmit/1.0.0/chb03/chb03_19.edf\n",
      "/Users/madhavp/physionet.org/files/chbmit/1.0.0/chb03/chb03_20.edf\n",
      "/Users/madhavp/physionet.org/files/chbmit/1.0.0/chb03/chb03_21.edf\n",
      "/Users/madhavp/physionet.org/files/chbmit/1.0.0/chb03/chb03_22.edf\n",
      "/Users/madhavp/physionet.org/files/chbmit/1.0.0/chb03/chb03_23.edf\n",
      "/Users/madhavp/physionet.org/files/chbmit/1.0.0/chb03/chb03_24.edf\n",
      "/Users/madhavp/physionet.org/files/chbmit/1.0.0/chb03/chb03_25.edf\n",
      "/Users/madhavp/physionet.org/files/chbmit/1.0.0/chb03/chb03_26.edf\n",
      "/Users/madhavp/physionet.org/files/chbmit/1.0.0/chb03/chb03_27.edf\n",
      "/Users/madhavp/physionet.org/files/chbmit/1.0.0/chb03/chb03_28.edf\n",
      "/Users/madhavp/physionet.org/files/chbmit/1.0.0/chb03/chb03_29.edf\n",
      "/Users/madhavp/physionet.org/files/chbmit/1.0.0/chb03/chb03_30.edf\n",
      "/Users/madhavp/physionet.org/files/chbmit/1.0.0/chb03/chb03_31.edf\n",
      "/Users/madhavp/physionet.org/files/chbmit/1.0.0/chb03/chb03_32.edf\n",
      "/Users/madhavp/physionet.org/files/chbmit/1.0.0/chb03/chb03_33.edf\n",
      "/Users/madhavp/physionet.org/files/chbmit/1.0.0/chb03/chb03_34.edf\n",
      "/Users/madhavp/physionet.org/files/chbmit/1.0.0/chb03/chb03_35.edf\n",
      "/Users/madhavp/physionet.org/files/chbmit/1.0.0/chb03/chb03_36.edf\n",
      "/Users/madhavp/physionet.org/files/chbmit/1.0.0/chb03/chb03_37.edf\n",
      "/Users/madhavp/physionet.org/files/chbmit/1.0.0/chb03/chb03_38.edf\n",
      "/Users/madhavp/physionet.org/files/chbmit/1.0.0/chb04/chb04_01.edf\n",
      "/Users/madhavp/physionet.org/files/chbmit/1.0.0/chb04/chb04_02.edf\n",
      "/Users/madhavp/physionet.org/files/chbmit/1.0.0/chb04/chb04_03.edf\n",
      "/Users/madhavp/physionet.org/files/chbmit/1.0.0/chb04/chb04_04.edf\n",
      "/Users/madhavp/physionet.org/files/chbmit/1.0.0/chb04/chb04_05.edf\n",
      "/Users/madhavp/physionet.org/files/chbmit/1.0.0/chb04/chb04_06.edf\n",
      "/Users/madhavp/physionet.org/files/chbmit/1.0.0/chb04/chb04_07.edf\n",
      "/Users/madhavp/physionet.org/files/chbmit/1.0.0/chb04/chb04_08.edf\n",
      "/Users/madhavp/physionet.org/files/chbmit/1.0.0/chb04/chb04_09.edf\n",
      "/Users/madhavp/physionet.org/files/chbmit/1.0.0/chb04/chb04_10.edf\n",
      "/Users/madhavp/physionet.org/files/chbmit/1.0.0/chb04/chb04_11.edf\n",
      "/Users/madhavp/physionet.org/files/chbmit/1.0.0/chb04/chb04_12.edf\n",
      "/Users/madhavp/physionet.org/files/chbmit/1.0.0/chb04/chb04_13.edf\n",
      "/Users/madhavp/physionet.org/files/chbmit/1.0.0/chb04/chb04_14.edf\n",
      "/Users/madhavp/physionet.org/files/chbmit/1.0.0/chb04/chb04_15.edf\n",
      "/Users/madhavp/physionet.org/files/chbmit/1.0.0/chb04/chb04_16.edf\n",
      "/Users/madhavp/physionet.org/files/chbmit/1.0.0/chb04/chb04_17.edf\n",
      "/Users/madhavp/physionet.org/files/chbmit/1.0.0/chb04/chb04_18.edf\n",
      "/Users/madhavp/physionet.org/files/chbmit/1.0.0/chb04/chb04_19.edf\n",
      "/Users/madhavp/physionet.org/files/chbmit/1.0.0/chb04/chb04_21.edf\n",
      "/Users/madhavp/physionet.org/files/chbmit/1.0.0/chb04/chb04_22.edf\n",
      "/Users/madhavp/physionet.org/files/chbmit/1.0.0/chb04/chb04_23.edf\n",
      "/Users/madhavp/physionet.org/files/chbmit/1.0.0/chb04/chb04_24.edf\n",
      "/Users/madhavp/physionet.org/files/chbmit/1.0.0/chb04/chb04_25.edf\n",
      "/Users/madhavp/physionet.org/files/chbmit/1.0.0/chb04/chb04_26.edf\n",
      "/Users/madhavp/physionet.org/files/chbmit/1.0.0/chb04/chb04_27.edf\n",
      "/Users/madhavp/physionet.org/files/chbmit/1.0.0/chb04/chb04_28.edf\n",
      "/Users/madhavp/physionet.org/files/chbmit/1.0.0/chb04/chb04_29.edf\n",
      "/Users/madhavp/physionet.org/files/chbmit/1.0.0/chb04/chb04_30.edf\n",
      "/Users/madhavp/physionet.org/files/chbmit/1.0.0/chb04/chb04_31.edf\n",
      "/Users/madhavp/physionet.org/files/chbmit/1.0.0/chb04/chb04_32.edf\n",
      "/Users/madhavp/physionet.org/files/chbmit/1.0.0/chb04/chb04_33.edf\n",
      "/Users/madhavp/physionet.org/files/chbmit/1.0.0/chb04/chb04_34.edf\n",
      "/Users/madhavp/physionet.org/files/chbmit/1.0.0/chb04/chb04_35.edf\n",
      "/Users/madhavp/physionet.org/files/chbmit/1.0.0/chb04/chb04_36.edf\n",
      "/Users/madhavp/physionet.org/files/chbmit/1.0.0/chb04/chb04_37.edf\n",
      "/Users/madhavp/physionet.org/files/chbmit/1.0.0/chb04/chb04_38.edf\n",
      "/Users/madhavp/physionet.org/files/chbmit/1.0.0/chb04/chb04_39.edf\n",
      "/Users/madhavp/physionet.org/files/chbmit/1.0.0/chb04/chb04_40.edf\n",
      "/Users/madhavp/physionet.org/files/chbmit/1.0.0/chb04/chb04_41.edf\n",
      "/Users/madhavp/physionet.org/files/chbmit/1.0.0/chb04/chb04_42.edf\n",
      "/Users/madhavp/physionet.org/files/chbmit/1.0.0/chb04/chb04_43.edf\n",
      "/Users/madhavp/physionet.org/files/chbmit/1.0.0/chb05/chb05_01.edf\n",
      "/Users/madhavp/physionet.org/files/chbmit/1.0.0/chb05/chb05_02.edf\n",
      "/Users/madhavp/physionet.org/files/chbmit/1.0.0/chb05/chb05_03.edf\n",
      "/Users/madhavp/physionet.org/files/chbmit/1.0.0/chb05/chb05_04.edf\n",
      "/Users/madhavp/physionet.org/files/chbmit/1.0.0/chb05/chb05_05.edf\n",
      "/Users/madhavp/physionet.org/files/chbmit/1.0.0/chb05/chb05_06.edf\n",
      "/Users/madhavp/physionet.org/files/chbmit/1.0.0/chb05/chb05_07.edf\n",
      "/Users/madhavp/physionet.org/files/chbmit/1.0.0/chb05/chb05_08.edf\n",
      "/Users/madhavp/physionet.org/files/chbmit/1.0.0/chb05/chb05_09.edf\n",
      "/Users/madhavp/physionet.org/files/chbmit/1.0.0/chb05/chb05_10.edf\n",
      "/Users/madhavp/physionet.org/files/chbmit/1.0.0/chb05/chb05_11.edf\n",
      "/Users/madhavp/physionet.org/files/chbmit/1.0.0/chb05/chb05_12.edf\n",
      "/Users/madhavp/physionet.org/files/chbmit/1.0.0/chb05/chb05_13.edf\n",
      "/Users/madhavp/physionet.org/files/chbmit/1.0.0/chb05/chb05_14.edf\n",
      "/Users/madhavp/physionet.org/files/chbmit/1.0.0/chb05/chb05_15.edf\n",
      "/Users/madhavp/physionet.org/files/chbmit/1.0.0/chb05/chb05_16.edf\n",
      "/Users/madhavp/physionet.org/files/chbmit/1.0.0/chb05/chb05_17.edf\n",
      "/Users/madhavp/physionet.org/files/chbmit/1.0.0/chb05/chb05_18.edf\n",
      "/Users/madhavp/physionet.org/files/chbmit/1.0.0/chb05/chb05_19.edf\n",
      "/Users/madhavp/physionet.org/files/chbmit/1.0.0/chb05/chb05_20.edf\n",
      "/Users/madhavp/physionet.org/files/chbmit/1.0.0/chb05/chb05_21.edf\n",
      "/Users/madhavp/physionet.org/files/chbmit/1.0.0/chb05/chb05_22.edf\n",
      "/Users/madhavp/physionet.org/files/chbmit/1.0.0/chb05/chb05_23.edf\n",
      "/Users/madhavp/physionet.org/files/chbmit/1.0.0/chb05/chb05_24.edf\n",
      "/Users/madhavp/physionet.org/files/chbmit/1.0.0/chb05/chb05_25.edf\n",
      "/Users/madhavp/physionet.org/files/chbmit/1.0.0/chb05/chb05_26.edf\n",
      "/Users/madhavp/physionet.org/files/chbmit/1.0.0/chb05/chb05_27.edf\n",
      "/Users/madhavp/physionet.org/files/chbmit/1.0.0/chb05/chb05_28.edf\n",
      "/Users/madhavp/physionet.org/files/chbmit/1.0.0/chb05/chb05_29.edf\n",
      "/Users/madhavp/physionet.org/files/chbmit/1.0.0/chb05/chb05_30.edf\n",
      "/Users/madhavp/physionet.org/files/chbmit/1.0.0/SHA256SUMS.txt\n",
      "/Users/madhavp/physionet.org/files/chbmit/1.0.0/chb01/chb01-summary.txt\n",
      "/Users/madhavp/physionet.org/files/chbmit/1.0.0/chb02/chb02-summary.txt\n",
      "/Users/madhavp/physionet.org/files/chbmit/1.0.0/chb03/chb03-summary.txt\n",
      "/Users/madhavp/physionet.org/files/chbmit/1.0.0/chb04/chb04-summary.txt\n",
      "/Users/madhavp/physionet.org/files/chbmit/1.0.0/chb05/chb05-summary.txt\n"
     ]
    }
   ],
   "source": [
    "\n",
    "import os\n",
    "\n",
    "path = '/Users/madhavp/physionet.org/files/chbmit/1.0.0'\n",
    "# path = '/content/physionet.org/files/siena-scalp-eeg/1.0.0'\n",
    "\n",
    "edfFiles = []\n",
    "txtFiles = []\n",
    "# r=root, d=directories, f = files\n",
    "for r, d, f in os.walk(path):\n",
    "    for file in f:\n",
    "        if file[-4:] == '.edf':\n",
    "            edfFiles.append(os.path.join(r, file))\n",
    "        elif file[-4:] == '.txt':\n",
    "            txtFiles.append(os.path.join(r, file))\n",
    "\n",
    "edfFiles = sorted(edfFiles)\n",
    "txtFiles = sorted(txtFiles)\n",
    "\n",
    "for f in edfFiles:\n",
    "    print(f)\n",
    "\n",
    "for f in txtFiles:\n",
    "    print(f)"
   ]
  },
  {
   "cell_type": "code",
   "execution_count": 154,
   "metadata": {},
   "outputs": [
    {
     "name": "stdout",
     "output_type": "stream",
     "text": [
      "Extracting EDF parameters from /Users/madhavp/physionet.org/files/chbmit/1.0.0/chb01/chb01_01.edf...\n",
      "EDF file detected\n",
      "Setting channel info structure...\n",
      "Creating raw.info structure...\n"
     ]
    },
    {
     "name": "stderr",
     "output_type": "stream",
     "text": [
      "/var/folders/fz/6jhdkfr50zg8znkw9c7rz0gm0000gn/T/ipykernel_11354/1681911310.py:21: RuntimeWarning: Channel names are not unique, found duplicates for: {'T8-P8'}. Applying running numbers for duplicates.\n",
      "  raw = mne.io.read_raw_edf(edf_file)\n"
     ]
    },
    {
     "name": "stdout",
     "output_type": "stream",
     "text": [
      "Converted /Users/madhavp/physionet.org/files/chbmit/1.0.0/chb01/chb01_01.edf to /Users/madhavp/physionet.org/files/chbmit/1.0.0/chb01/chb01_01.csv\n",
      "Extracting EDF parameters from /Users/madhavp/physionet.org/files/chbmit/1.0.0/chb01/chb01_02.edf...\n",
      "EDF file detected\n",
      "Setting channel info structure...\n",
      "Creating raw.info structure...\n"
     ]
    },
    {
     "name": "stderr",
     "output_type": "stream",
     "text": [
      "/var/folders/fz/6jhdkfr50zg8znkw9c7rz0gm0000gn/T/ipykernel_11354/1681911310.py:21: RuntimeWarning: Channel names are not unique, found duplicates for: {'T8-P8'}. Applying running numbers for duplicates.\n",
      "  raw = mne.io.read_raw_edf(edf_file)\n"
     ]
    },
    {
     "name": "stdout",
     "output_type": "stream",
     "text": [
      "Converted /Users/madhavp/physionet.org/files/chbmit/1.0.0/chb01/chb01_02.edf to /Users/madhavp/physionet.org/files/chbmit/1.0.0/chb01/chb01_02.csv\n",
      "Extracting EDF parameters from /Users/madhavp/physionet.org/files/chbmit/1.0.0/chb01/chb01_03.edf...\n",
      "EDF file detected\n",
      "Setting channel info structure...\n",
      "Creating raw.info structure...\n"
     ]
    },
    {
     "name": "stderr",
     "output_type": "stream",
     "text": [
      "/var/folders/fz/6jhdkfr50zg8znkw9c7rz0gm0000gn/T/ipykernel_11354/1681911310.py:21: RuntimeWarning: Channel names are not unique, found duplicates for: {'T8-P8'}. Applying running numbers for duplicates.\n",
      "  raw = mne.io.read_raw_edf(edf_file)\n"
     ]
    },
    {
     "name": "stdout",
     "output_type": "stream",
     "text": [
      "Converted /Users/madhavp/physionet.org/files/chbmit/1.0.0/chb01/chb01_03.edf to /Users/madhavp/physionet.org/files/chbmit/1.0.0/chb01/chb01_03.csv\n",
      "Extracting EDF parameters from /Users/madhavp/physionet.org/files/chbmit/1.0.0/chb01/chb01_04.edf...\n",
      "EDF file detected\n",
      "Setting channel info structure...\n",
      "Creating raw.info structure...\n"
     ]
    },
    {
     "name": "stderr",
     "output_type": "stream",
     "text": [
      "/var/folders/fz/6jhdkfr50zg8znkw9c7rz0gm0000gn/T/ipykernel_11354/1681911310.py:21: RuntimeWarning: Channel names are not unique, found duplicates for: {'T8-P8'}. Applying running numbers for duplicates.\n",
      "  raw = mne.io.read_raw_edf(edf_file)\n"
     ]
    },
    {
     "name": "stdout",
     "output_type": "stream",
     "text": [
      "Converted /Users/madhavp/physionet.org/files/chbmit/1.0.0/chb01/chb01_04.edf to /Users/madhavp/physionet.org/files/chbmit/1.0.0/chb01/chb01_04.csv\n",
      "Extracting EDF parameters from /Users/madhavp/physionet.org/files/chbmit/1.0.0/chb01/chb01_05.edf...\n",
      "EDF file detected\n",
      "Setting channel info structure...\n",
      "Creating raw.info structure...\n"
     ]
    },
    {
     "name": "stderr",
     "output_type": "stream",
     "text": [
      "/var/folders/fz/6jhdkfr50zg8znkw9c7rz0gm0000gn/T/ipykernel_11354/1681911310.py:21: RuntimeWarning: Channel names are not unique, found duplicates for: {'T8-P8'}. Applying running numbers for duplicates.\n",
      "  raw = mne.io.read_raw_edf(edf_file)\n"
     ]
    },
    {
     "name": "stdout",
     "output_type": "stream",
     "text": [
      "Converted /Users/madhavp/physionet.org/files/chbmit/1.0.0/chb01/chb01_05.edf to /Users/madhavp/physionet.org/files/chbmit/1.0.0/chb01/chb01_05.csv\n",
      "Extracting EDF parameters from /Users/madhavp/physionet.org/files/chbmit/1.0.0/chb01/chb01_06.edf...\n",
      "EDF file detected\n",
      "Setting channel info structure...\n",
      "Creating raw.info structure...\n"
     ]
    },
    {
     "name": "stderr",
     "output_type": "stream",
     "text": [
      "/var/folders/fz/6jhdkfr50zg8znkw9c7rz0gm0000gn/T/ipykernel_11354/1681911310.py:21: RuntimeWarning: Channel names are not unique, found duplicates for: {'T8-P8'}. Applying running numbers for duplicates.\n",
      "  raw = mne.io.read_raw_edf(edf_file)\n"
     ]
    },
    {
     "name": "stdout",
     "output_type": "stream",
     "text": [
      "Converted /Users/madhavp/physionet.org/files/chbmit/1.0.0/chb01/chb01_06.edf to /Users/madhavp/physionet.org/files/chbmit/1.0.0/chb01/chb01_06.csv\n"
     ]
    }
   ],
   "source": [
    "import os\n",
    "import mne\n",
    "\n",
    "path = '/Users/madhavp/physionet.org/files/chbmit/1.0.0'\n",
    "# path = '/content/physionet.org/files/siena-scalp-eeg/1.0.0'\n",
    "\n",
    "edfFiles = []\n",
    "txtFiles = []\n",
    "# r=root, d=directories, f=files\n",
    "for r, d, f in os.walk(path):\n",
    "    for file in f:\n",
    "        if file.endswith('.edf'):\n",
    "            edfFiles.append(os.path.join(r, file))\n",
    "        elif file.endswith('.txt'):\n",
    "            txtFiles.append(os.path.join(r, file))\n",
    "\n",
    "edfFiles = sorted(edfFiles)\n",
    "txtFiles = sorted(txtFiles)\n",
    "\n",
    "for edf_file, txt_file in zip(edfFiles, txtFiles):\n",
    "    raw = mne.io.read_raw_edf(edf_file)\n",
    "    csv_file = os.path.splitext(edf_file)[0] + '.csv'\n",
    "    raw.to_data_frame().to_csv(csv_file, index=False)\n",
    "    print(f\"Converted {edf_file} to {csv_file}\")\n"
   ]
  },
  {
   "cell_type": "code",
   "execution_count": 153,
   "metadata": {},
   "outputs": [
    {
     "name": "stdout",
     "output_type": "stream",
     "text": [
      "Extracting EDF parameters from /Users/madhavp/physionet.org/files/chbmit/1.0.0/chb01/chb01_01.edf...\n",
      "EDF file detected\n",
      "Setting channel info structure...\n",
      "Creating raw.info structure...\n"
     ]
    },
    {
     "name": "stderr",
     "output_type": "stream",
     "text": [
      "/var/folders/fz/6jhdkfr50zg8znkw9c7rz0gm0000gn/T/ipykernel_11354/933451540.py:3: RuntimeWarning: Channel names are not unique, found duplicates for: {'T8-P8'}. Applying running numbers for duplicates.\n",
      "  edf = mne.io.read_raw_edf('/Users/madhavp/physionet.org/files/chbmit/1.0.0/chb01/chb01_01.edf')\n"
     ]
    }
   ],
   "source": [
    "import numpy as np\n",
    "import mne\n",
    "edf = mne.io.read_raw_edf('/Users/madhavp/physionet.org/files/chbmit/1.0.0/chb01/chb01_01.edf')\n",
    "header = ','.join(edf.ch_names)\n",
    "np.savetxt('/Users/madhavp/physionet.org/files/chbmit/1.0.0/chb01/chb01_01.edf.csv', edf.get_data().T, delimiter=',', header=header)\n"
   ]
  },
  {
   "cell_type": "code",
   "execution_count": 59,
   "metadata": {},
   "outputs": [],
   "source": [
    "edfFileName = '/Users/madhavp/physionet.org/files/chbmit/1.0.0/chb01/chb01_03.edf'\n",
    "sub = edfFileName[54:59]\n",
    "filePath = '/Users/madhavp/physionet.org/files/chbmit/1.0.0/' + sub + '/' + sub + '-summary.txt'\n",
    "#   filepath = '/content/physionet.org/files/siena-scalp-eeg/1.0.0'+ sub + '/' + sub + '-summary.txt'\n",
    "f = open(filePath, 'r')\n",
    "file_contents = f.read()\n",
    "\n",
    "file_list = file_contents.split('\\n')\n",
    "sub = edfFileName[54:-4]\n",
    "sub = 'File Name: ' + sub + '.edf'\n",
    "ind = file_list.index(sub)\n",
    "\n",
    "seizures = list(map(int, re.findall(r'\\d+', file_list[ind+3]) ))[0]\n",
    "start = []\n",
    "end   = []\n",
    "for i in range(seizures):\n",
    "    start.append(list(map(int, re.findall(r'\\d+', file_list[ind+2*i+4])))[0])\n",
    "    end.append(list(map(int, re.findall(r'\\d+', file_list[ind+2*i+5])))[0])\n",
    "# print(start, end)\n",
    "\n",
    "if seizures == 0:\n",
    "    labels = np.zeros((3600))\n",
    "else:\n",
    "    labels = np.ones((3600))\n",
    "    labels[end[-1]:] *= 0\n",
    "    for i in range(len(start)):\n",
    "      labels[start[i]:end[i]] *= 2\n"
   ]
  },
  {
   "cell_type": "code",
   "execution_count": 115,
   "metadata": {},
   "outputs": [
    {
     "name": "stdout",
     "output_type": "stream",
     "text": [
      "1\n",
      "[2996]\n",
      "[3036]\n",
      "3600\n"
     ]
    }
   ],
   "source": [
    "print(seizures)\n",
    "print(start)\n",
    "print(end)\n",
    "print(labels.size)"
   ]
  },
  {
   "cell_type": "code",
   "execution_count": 147,
   "metadata": {
    "id": "ZSFkMlCFn1NE"
   },
   "outputs": [],
   "source": [
    "from pyedflib import highlevel\n",
    "import numpy as np\n",
    "import matplotlib.pyplot as plt\n",
    "import re\n",
    "import matplotlib.pyplot as plt\n",
    "\n",
    "\n",
    "def get_summary_file_contents(edfFileName):\n",
    "    sub = edfFileName[54:59]\n",
    "    filePath = '/Users/madhavp/physionet.org/files/chbmit/1.0.0/' + sub + '/' + sub + '-summary.txt'\n",
    "    with open(filePath, 'r') as f:\n",
    "        file_contents = f.read()\n",
    "    return file_contents\n",
    "\n",
    "def extract_labels(file_contents, edfFileName):\n",
    "    sub = edfFileName[54:-4]\n",
    "    sub = 'File Name: ' + sub + '.edf'\n",
    "    ind = file_contents.index(sub)\n",
    "\n",
    "    seizures = list(map(int, re.findall(r'\\d+', file_contents[ind+3])))[0]\n",
    "    start = []\n",
    "    end = []\n",
    "    for i in range(seizures):\n",
    "        start.append(list(map(int, re.findall(r'\\d+', file_contents[ind+2*i+4])))[0])\n",
    "        end.append(list(map(int, re.findall(r'\\d+', file_contents[ind+2*i+5])))[0])\n",
    "\n",
    "    if seizures == 0:\n",
    "        labels = np.zeros((3600))\n",
    "    else:\n",
    "        labels = np.ones((3600))\n",
    "        labels[end[-1]:] *= 0\n",
    "        for i in range(len(start)):\n",
    "            labels[start[i]:end[i]] *= 2\n",
    "\n",
    "    return labels\n",
    "\n",
    "def generateLabels(edfFileName):\n",
    "    file_contents = get_summary_file_contents(edfFileName)\n",
    "    labels = extract_labels(file_contents, edfFileName)\n",
    "    return labels\n",
    "\n",
    "\n",
    "\n",
    "# def generateLabels(edfFileName):\n",
    "#   # sub = edfFileName[48:53]\n",
    "#   sub = edfFileName[54:59]\n",
    "#   filePath = '/Users/madhavp/physionet.org/files/chbmit/1.0.0/' + sub + '/' + sub + '-summary.txt'\n",
    "# #   filepath = '/content/physionet.org/files/siena-scalp-eeg/1.0.0'+ sub + '/' + sub + '-summary.txt'\n",
    "#   f = open(filePath, 'r')\n",
    "#   file_contents = f.read()\n",
    "\n",
    "#   file_list = file_contents.split('\\n')\n",
    "#   sub = edfFileName[54:-4]\n",
    "#   sub = 'File Name: ' + sub + '.edf'\n",
    "#   ind = file_list.index(sub)\n",
    "\n",
    "#   seizures = list(map(int, re.findall(r'\\d+', file_list[ind+3]) ))[0]\n",
    "#   start = []\n",
    "#   end   = []\n",
    "#   for i in range(seizures):\n",
    "#     start.append(list(map(int, re.findall(r'\\d+', file_list[ind+2*i+4])))[0])\n",
    "#     end.append(list(map(int, re.findall(r'\\d+', file_list[ind+2*i+5])))[0])\n",
    "#     # print(start, end)\n",
    "\n",
    "#   if seizures == 0:\n",
    "#     labels = np.zeros((3600))\n",
    "#   else:\n",
    "#     labels = np.ones((3600))\n",
    "#     labels[end[-1]:] *= 0\n",
    "#     for i in range(len(start)):\n",
    "#       labels[start[i]:end[i]] *= 2\n",
    "  \n",
    "#   return labels"
   ]
  },
  {
   "cell_type": "code",
   "execution_count": 148,
   "metadata": {
    "colab": {
     "base_uri": "https://localhost:8080/"
    },
    "id": "HMNvFoqJpyDS",
    "outputId": "6bff1062-b3ca-4902-86a6-631f05620756"
   },
   "outputs": [
    {
     "name": "stdout",
     "output_type": "stream",
     "text": [
      "188 125 63\n"
     ]
    }
   ],
   "source": [
    "import random\n",
    "\n",
    "totalData       = len(edfFiles)\n",
    "# random.shuffle(edfFiles)\n",
    "partition       = int(len(edfFiles) * 2/3)\n",
    "edfFilesVal     = edfFiles[partition:]\n",
    "edfFilesTrain   = edfFiles[:partition]\n",
    "trainData       = len(edfFilesTrain)\n",
    "valData         = len(edfFilesVal)\n",
    "\n",
    "print(totalData, trainData, valData)"
   ]
  },
  {
   "cell_type": "code",
   "execution_count": 149,
   "metadata": {},
   "outputs": [
    {
     "name": "stdout",
     "output_type": "stream",
     "text": [
      "['/Users/madhavp/physionet.org/files/chbmit/1.0.0/chb01/chb01_01.edf', '/Users/madhavp/physionet.org/files/chbmit/1.0.0/chb01/chb01_02.edf', '/Users/madhavp/physionet.org/files/chbmit/1.0.0/chb01/chb01_03.edf', '/Users/madhavp/physionet.org/files/chbmit/1.0.0/chb01/chb01_04.edf', '/Users/madhavp/physionet.org/files/chbmit/1.0.0/chb01/chb01_05.edf', '/Users/madhavp/physionet.org/files/chbmit/1.0.0/chb01/chb01_06.edf', '/Users/madhavp/physionet.org/files/chbmit/1.0.0/chb01/chb01_07.edf', '/Users/madhavp/physionet.org/files/chbmit/1.0.0/chb01/chb01_08.edf', '/Users/madhavp/physionet.org/files/chbmit/1.0.0/chb01/chb01_09.edf', '/Users/madhavp/physionet.org/files/chbmit/1.0.0/chb01/chb01_10.edf', '/Users/madhavp/physionet.org/files/chbmit/1.0.0/chb01/chb01_11.edf', '/Users/madhavp/physionet.org/files/chbmit/1.0.0/chb01/chb01_12.edf', '/Users/madhavp/physionet.org/files/chbmit/1.0.0/chb01/chb01_13.edf', '/Users/madhavp/physionet.org/files/chbmit/1.0.0/chb01/chb01_14.edf', '/Users/madhavp/physionet.org/files/chbmit/1.0.0/chb01/chb01_15.edf', '/Users/madhavp/physionet.org/files/chbmit/1.0.0/chb01/chb01_16.edf', '/Users/madhavp/physionet.org/files/chbmit/1.0.0/chb01/chb01_17.edf', '/Users/madhavp/physionet.org/files/chbmit/1.0.0/chb01/chb01_18.edf', '/Users/madhavp/physionet.org/files/chbmit/1.0.0/chb01/chb01_19.edf', '/Users/madhavp/physionet.org/files/chbmit/1.0.0/chb01/chb01_20.edf', '/Users/madhavp/physionet.org/files/chbmit/1.0.0/chb01/chb01_21.edf', '/Users/madhavp/physionet.org/files/chbmit/1.0.0/chb01/chb01_22.edf', '/Users/madhavp/physionet.org/files/chbmit/1.0.0/chb01/chb01_23.edf', '/Users/madhavp/physionet.org/files/chbmit/1.0.0/chb01/chb01_24.edf', '/Users/madhavp/physionet.org/files/chbmit/1.0.0/chb01/chb01_25.edf', '/Users/madhavp/physionet.org/files/chbmit/1.0.0/chb01/chb01_26.edf', '/Users/madhavp/physionet.org/files/chbmit/1.0.0/chb01/chb01_27.edf', '/Users/madhavp/physionet.org/files/chbmit/1.0.0/chb01/chb01_29.edf', '/Users/madhavp/physionet.org/files/chbmit/1.0.0/chb01/chb01_30.edf', '/Users/madhavp/physionet.org/files/chbmit/1.0.0/chb01/chb01_31.edf', '/Users/madhavp/physionet.org/files/chbmit/1.0.0/chb01/chb01_32.edf', '/Users/madhavp/physionet.org/files/chbmit/1.0.0/chb01/chb01_33.edf', '/Users/madhavp/physionet.org/files/chbmit/1.0.0/chb01/chb01_34.edf', '/Users/madhavp/physionet.org/files/chbmit/1.0.0/chb01/chb01_36.edf', '/Users/madhavp/physionet.org/files/chbmit/1.0.0/chb01/chb01_37.edf', '/Users/madhavp/physionet.org/files/chbmit/1.0.0/chb01/chb01_38.edf', '/Users/madhavp/physionet.org/files/chbmit/1.0.0/chb01/chb01_39.edf', '/Users/madhavp/physionet.org/files/chbmit/1.0.0/chb01/chb01_40.edf', '/Users/madhavp/physionet.org/files/chbmit/1.0.0/chb01/chb01_41.edf', '/Users/madhavp/physionet.org/files/chbmit/1.0.0/chb01/chb01_42.edf', '/Users/madhavp/physionet.org/files/chbmit/1.0.0/chb01/chb01_43.edf', '/Users/madhavp/physionet.org/files/chbmit/1.0.0/chb01/chb01_46.edf', '/Users/madhavp/physionet.org/files/chbmit/1.0.0/chb02/chb02_01.edf', '/Users/madhavp/physionet.org/files/chbmit/1.0.0/chb02/chb02_02.edf', '/Users/madhavp/physionet.org/files/chbmit/1.0.0/chb02/chb02_03.edf', '/Users/madhavp/physionet.org/files/chbmit/1.0.0/chb02/chb02_04.edf', '/Users/madhavp/physionet.org/files/chbmit/1.0.0/chb02/chb02_05.edf', '/Users/madhavp/physionet.org/files/chbmit/1.0.0/chb02/chb02_06.edf', '/Users/madhavp/physionet.org/files/chbmit/1.0.0/chb02/chb02_07.edf', '/Users/madhavp/physionet.org/files/chbmit/1.0.0/chb02/chb02_08.edf', '/Users/madhavp/physionet.org/files/chbmit/1.0.0/chb02/chb02_09.edf', '/Users/madhavp/physionet.org/files/chbmit/1.0.0/chb02/chb02_10.edf', '/Users/madhavp/physionet.org/files/chbmit/1.0.0/chb02/chb02_11.edf', '/Users/madhavp/physionet.org/files/chbmit/1.0.0/chb02/chb02_12.edf', '/Users/madhavp/physionet.org/files/chbmit/1.0.0/chb02/chb02_13.edf', '/Users/madhavp/physionet.org/files/chbmit/1.0.0/chb02/chb02_14.edf', '/Users/madhavp/physionet.org/files/chbmit/1.0.0/chb02/chb02_15.edf', '/Users/madhavp/physionet.org/files/chbmit/1.0.0/chb02/chb02_16+.edf', '/Users/madhavp/physionet.org/files/chbmit/1.0.0/chb02/chb02_16.edf', '/Users/madhavp/physionet.org/files/chbmit/1.0.0/chb02/chb02_17.edf', '/Users/madhavp/physionet.org/files/chbmit/1.0.0/chb02/chb02_18.edf', '/Users/madhavp/physionet.org/files/chbmit/1.0.0/chb02/chb02_19.edf', '/Users/madhavp/physionet.org/files/chbmit/1.0.0/chb02/chb02_20.edf', '/Users/madhavp/physionet.org/files/chbmit/1.0.0/chb02/chb02_21.edf', '/Users/madhavp/physionet.org/files/chbmit/1.0.0/chb02/chb02_22.edf', '/Users/madhavp/physionet.org/files/chbmit/1.0.0/chb02/chb02_23.edf', '/Users/madhavp/physionet.org/files/chbmit/1.0.0/chb02/chb02_24.edf', '/Users/madhavp/physionet.org/files/chbmit/1.0.0/chb02/chb02_25.edf', '/Users/madhavp/physionet.org/files/chbmit/1.0.0/chb02/chb02_26.edf', '/Users/madhavp/physionet.org/files/chbmit/1.0.0/chb02/chb02_27.edf', '/Users/madhavp/physionet.org/files/chbmit/1.0.0/chb02/chb02_28.edf', '/Users/madhavp/physionet.org/files/chbmit/1.0.0/chb02/chb02_29.edf', '/Users/madhavp/physionet.org/files/chbmit/1.0.0/chb02/chb02_30.edf', '/Users/madhavp/physionet.org/files/chbmit/1.0.0/chb02/chb02_31.edf', '/Users/madhavp/physionet.org/files/chbmit/1.0.0/chb02/chb02_32.edf', '/Users/madhavp/physionet.org/files/chbmit/1.0.0/chb02/chb02_33.edf', '/Users/madhavp/physionet.org/files/chbmit/1.0.0/chb02/chb02_34.edf', '/Users/madhavp/physionet.org/files/chbmit/1.0.0/chb02/chb02_35.edf', '/Users/madhavp/physionet.org/files/chbmit/1.0.0/chb03/chb03_01.edf', '/Users/madhavp/physionet.org/files/chbmit/1.0.0/chb03/chb03_02.edf', '/Users/madhavp/physionet.org/files/chbmit/1.0.0/chb03/chb03_03.edf', '/Users/madhavp/physionet.org/files/chbmit/1.0.0/chb03/chb03_04.edf', '/Users/madhavp/physionet.org/files/chbmit/1.0.0/chb03/chb03_05.edf', '/Users/madhavp/physionet.org/files/chbmit/1.0.0/chb03/chb03_06.edf', '/Users/madhavp/physionet.org/files/chbmit/1.0.0/chb03/chb03_07.edf', '/Users/madhavp/physionet.org/files/chbmit/1.0.0/chb03/chb03_08.edf', '/Users/madhavp/physionet.org/files/chbmit/1.0.0/chb03/chb03_09.edf', '/Users/madhavp/physionet.org/files/chbmit/1.0.0/chb03/chb03_10.edf', '/Users/madhavp/physionet.org/files/chbmit/1.0.0/chb03/chb03_11.edf', '/Users/madhavp/physionet.org/files/chbmit/1.0.0/chb03/chb03_12.edf', '/Users/madhavp/physionet.org/files/chbmit/1.0.0/chb03/chb03_13.edf', '/Users/madhavp/physionet.org/files/chbmit/1.0.0/chb03/chb03_14.edf', '/Users/madhavp/physionet.org/files/chbmit/1.0.0/chb03/chb03_15.edf', '/Users/madhavp/physionet.org/files/chbmit/1.0.0/chb03/chb03_16.edf', '/Users/madhavp/physionet.org/files/chbmit/1.0.0/chb03/chb03_17.edf', '/Users/madhavp/physionet.org/files/chbmit/1.0.0/chb03/chb03_18.edf', '/Users/madhavp/physionet.org/files/chbmit/1.0.0/chb03/chb03_19.edf', '/Users/madhavp/physionet.org/files/chbmit/1.0.0/chb03/chb03_20.edf', '/Users/madhavp/physionet.org/files/chbmit/1.0.0/chb03/chb03_21.edf', '/Users/madhavp/physionet.org/files/chbmit/1.0.0/chb03/chb03_22.edf', '/Users/madhavp/physionet.org/files/chbmit/1.0.0/chb03/chb03_23.edf', '/Users/madhavp/physionet.org/files/chbmit/1.0.0/chb03/chb03_24.edf', '/Users/madhavp/physionet.org/files/chbmit/1.0.0/chb03/chb03_25.edf', '/Users/madhavp/physionet.org/files/chbmit/1.0.0/chb03/chb03_26.edf', '/Users/madhavp/physionet.org/files/chbmit/1.0.0/chb03/chb03_27.edf', '/Users/madhavp/physionet.org/files/chbmit/1.0.0/chb03/chb03_28.edf', '/Users/madhavp/physionet.org/files/chbmit/1.0.0/chb03/chb03_29.edf', '/Users/madhavp/physionet.org/files/chbmit/1.0.0/chb03/chb03_30.edf', '/Users/madhavp/physionet.org/files/chbmit/1.0.0/chb03/chb03_31.edf', '/Users/madhavp/physionet.org/files/chbmit/1.0.0/chb03/chb03_32.edf', '/Users/madhavp/physionet.org/files/chbmit/1.0.0/chb03/chb03_33.edf', '/Users/madhavp/physionet.org/files/chbmit/1.0.0/chb03/chb03_34.edf', '/Users/madhavp/physionet.org/files/chbmit/1.0.0/chb03/chb03_35.edf', '/Users/madhavp/physionet.org/files/chbmit/1.0.0/chb03/chb03_36.edf', '/Users/madhavp/physionet.org/files/chbmit/1.0.0/chb03/chb03_37.edf', '/Users/madhavp/physionet.org/files/chbmit/1.0.0/chb03/chb03_38.edf', '/Users/madhavp/physionet.org/files/chbmit/1.0.0/chb04/chb04_01.edf', '/Users/madhavp/physionet.org/files/chbmit/1.0.0/chb04/chb04_02.edf', '/Users/madhavp/physionet.org/files/chbmit/1.0.0/chb04/chb04_03.edf', '/Users/madhavp/physionet.org/files/chbmit/1.0.0/chb04/chb04_04.edf', '/Users/madhavp/physionet.org/files/chbmit/1.0.0/chb04/chb04_05.edf', '/Users/madhavp/physionet.org/files/chbmit/1.0.0/chb04/chb04_06.edf', '/Users/madhavp/physionet.org/files/chbmit/1.0.0/chb04/chb04_07.edf', '/Users/madhavp/physionet.org/files/chbmit/1.0.0/chb04/chb04_08.edf', '/Users/madhavp/physionet.org/files/chbmit/1.0.0/chb04/chb04_09.edf']\n"
     ]
    }
   ],
   "source": [
    "print(edfFilesTrain)"
   ]
  },
  {
   "cell_type": "code",
   "execution_count": 155,
   "metadata": {},
   "outputs": [
    {
     "ename": "IndexError",
     "evalue": "list index out of range",
     "output_type": "error",
     "traceback": [
      "\u001b[0;31m---------------------------------------------------------------------------\u001b[0m",
      "\u001b[0;31mIndexError\u001b[0m                                Traceback (most recent call last)",
      "\u001b[0;32m/var/folders/fz/6jhdkfr50zg8znkw9c7rz0gm0000gn/T/ipykernel_11354/1722835655.py\u001b[0m in \u001b[0;36m<module>\u001b[0;34m\u001b[0m\n\u001b[1;32m      1\u001b[0m \u001b[0mstackedLabels\u001b[0m \u001b[0;34m=\u001b[0m \u001b[0mnp\u001b[0m\u001b[0;34m.\u001b[0m\u001b[0mzeros\u001b[0m\u001b[0;34m(\u001b[0m\u001b[0;34m(\u001b[0m\u001b[0;36m1\u001b[0m\u001b[0;34m)\u001b[0m\u001b[0;34m)\u001b[0m\u001b[0;34m\u001b[0m\u001b[0;34m\u001b[0m\u001b[0m\n\u001b[1;32m      2\u001b[0m \u001b[0;32mfor\u001b[0m \u001b[0mf\u001b[0m \u001b[0;32min\u001b[0m \u001b[0medfFilesTrain\u001b[0m\u001b[0;34m:\u001b[0m\u001b[0;34m\u001b[0m\u001b[0;34m\u001b[0m\u001b[0m\n\u001b[0;32m----> 3\u001b[0;31m     \u001b[0mgenLabels\u001b[0m \u001b[0;34m=\u001b[0m \u001b[0mgenerateLabels\u001b[0m\u001b[0;34m(\u001b[0m\u001b[0mf\u001b[0m\u001b[0;34m)\u001b[0m\u001b[0;34m\u001b[0m\u001b[0;34m\u001b[0m\u001b[0m\n\u001b[0m\u001b[1;32m      4\u001b[0m     \u001b[0mstackedLabels\u001b[0m \u001b[0;34m=\u001b[0m \u001b[0mnp\u001b[0m\u001b[0;34m.\u001b[0m\u001b[0mconcatenate\u001b[0m\u001b[0;34m(\u001b[0m\u001b[0;34m(\u001b[0m\u001b[0mstackedLabels\u001b[0m\u001b[0;34m,\u001b[0m \u001b[0mgenLabels\u001b[0m\u001b[0;34m)\u001b[0m\u001b[0;34m,\u001b[0m \u001b[0maxis\u001b[0m\u001b[0;34m=\u001b[0m\u001b[0;34m-\u001b[0m\u001b[0;36m1\u001b[0m\u001b[0;34m)\u001b[0m\u001b[0;34m\u001b[0m\u001b[0;34m\u001b[0m\u001b[0m\n\u001b[1;32m      5\u001b[0m \u001b[0mprint\u001b[0m\u001b[0;34m(\u001b[0m\u001b[0mstackedLabels\u001b[0m\u001b[0;34m)\u001b[0m\u001b[0;34m\u001b[0m\u001b[0;34m\u001b[0m\u001b[0m\n",
      "\u001b[0;32m/var/folders/fz/6jhdkfr50zg8znkw9c7rz0gm0000gn/T/ipykernel_11354/4139180746.py\u001b[0m in \u001b[0;36mgenerateLabels\u001b[0;34m(edfFileName)\u001b[0m\n\u001b[1;32m     37\u001b[0m \u001b[0;32mdef\u001b[0m \u001b[0mgenerateLabels\u001b[0m\u001b[0;34m(\u001b[0m\u001b[0medfFileName\u001b[0m\u001b[0;34m)\u001b[0m\u001b[0;34m:\u001b[0m\u001b[0;34m\u001b[0m\u001b[0;34m\u001b[0m\u001b[0m\n\u001b[1;32m     38\u001b[0m     \u001b[0mfile_contents\u001b[0m \u001b[0;34m=\u001b[0m \u001b[0mget_summary_file_contents\u001b[0m\u001b[0;34m(\u001b[0m\u001b[0medfFileName\u001b[0m\u001b[0;34m)\u001b[0m\u001b[0;34m\u001b[0m\u001b[0;34m\u001b[0m\u001b[0m\n\u001b[0;32m---> 39\u001b[0;31m     \u001b[0mlabels\u001b[0m \u001b[0;34m=\u001b[0m \u001b[0mextract_labels\u001b[0m\u001b[0;34m(\u001b[0m\u001b[0mfile_contents\u001b[0m\u001b[0;34m,\u001b[0m \u001b[0medfFileName\u001b[0m\u001b[0;34m)\u001b[0m\u001b[0;34m\u001b[0m\u001b[0;34m\u001b[0m\u001b[0m\n\u001b[0m\u001b[1;32m     40\u001b[0m     \u001b[0;32mreturn\u001b[0m \u001b[0mlabels\u001b[0m\u001b[0;34m\u001b[0m\u001b[0;34m\u001b[0m\u001b[0m\n\u001b[1;32m     41\u001b[0m \u001b[0;34m\u001b[0m\u001b[0m\n",
      "\u001b[0;32m/var/folders/fz/6jhdkfr50zg8znkw9c7rz0gm0000gn/T/ipykernel_11354/4139180746.py\u001b[0m in \u001b[0;36mextract_labels\u001b[0;34m(file_contents, edfFileName)\u001b[0m\n\u001b[1;32m     18\u001b[0m     \u001b[0mind\u001b[0m \u001b[0;34m=\u001b[0m \u001b[0mfile_contents\u001b[0m\u001b[0;34m.\u001b[0m\u001b[0mindex\u001b[0m\u001b[0;34m(\u001b[0m\u001b[0msub\u001b[0m\u001b[0;34m)\u001b[0m\u001b[0;34m\u001b[0m\u001b[0;34m\u001b[0m\u001b[0m\n\u001b[1;32m     19\u001b[0m \u001b[0;34m\u001b[0m\u001b[0m\n\u001b[0;32m---> 20\u001b[0;31m     \u001b[0mseizures\u001b[0m \u001b[0;34m=\u001b[0m \u001b[0mlist\u001b[0m\u001b[0;34m(\u001b[0m\u001b[0mmap\u001b[0m\u001b[0;34m(\u001b[0m\u001b[0mint\u001b[0m\u001b[0;34m,\u001b[0m \u001b[0mre\u001b[0m\u001b[0;34m.\u001b[0m\u001b[0mfindall\u001b[0m\u001b[0;34m(\u001b[0m\u001b[0;34mr'\\d+'\u001b[0m\u001b[0;34m,\u001b[0m \u001b[0mfile_contents\u001b[0m\u001b[0;34m[\u001b[0m\u001b[0mind\u001b[0m\u001b[0;34m+\u001b[0m\u001b[0;36m3\u001b[0m\u001b[0;34m]\u001b[0m\u001b[0;34m)\u001b[0m\u001b[0;34m)\u001b[0m\u001b[0;34m)\u001b[0m\u001b[0;34m[\u001b[0m\u001b[0;36m0\u001b[0m\u001b[0;34m]\u001b[0m\u001b[0;34m\u001b[0m\u001b[0;34m\u001b[0m\u001b[0m\n\u001b[0m\u001b[1;32m     21\u001b[0m     \u001b[0mstart\u001b[0m \u001b[0;34m=\u001b[0m \u001b[0;34m[\u001b[0m\u001b[0;34m]\u001b[0m\u001b[0;34m\u001b[0m\u001b[0;34m\u001b[0m\u001b[0m\n\u001b[1;32m     22\u001b[0m     \u001b[0mend\u001b[0m \u001b[0;34m=\u001b[0m \u001b[0;34m[\u001b[0m\u001b[0;34m]\u001b[0m\u001b[0;34m\u001b[0m\u001b[0;34m\u001b[0m\u001b[0m\n",
      "\u001b[0;31mIndexError\u001b[0m: list index out of range"
     ]
    }
   ],
   "source": [
    "stackedLabels = np.zeros((1))\n",
    "for f in edfFilesTrain:\n",
    "    genLabels = generateLabels(f)\n",
    "    stackedLabels = np.concatenate((stackedLabels, genLabels), axis=-1)\n",
    "print(stackedLabels)"
   ]
  },
  {
   "cell_type": "markdown",
   "metadata": {
    "id": "69jdK75HqMCg"
   },
   "source": [
    "### Frequency domain"
   ]
  },
  {
   "cell_type": "code",
   "execution_count": 144,
   "metadata": {
    "id": "xI77UfrWp4Fe"
   },
   "outputs": [],
   "source": [
    "\n",
    "# from keras.utils import to_categorical\n",
    "\n",
    "# def stackDFTTrain(nbatch = 2):\n",
    "#   count = 0\n",
    "\n",
    "#   stackedDFT = np.zeros((1, 23, 256, 3))\n",
    "#   stackedLabels = np.zeros((1))\n",
    "#   rejected   = []\n",
    "\n",
    "#   while True:\n",
    "#     for f in edfFilesTrain:\n",
    "#       # print(f[54:-4])\n",
    "#       if stackedDFT.shape[0] >= nbatch*3600//3 + 1:\n",
    "#         print(stackedLabels.shape)\n",
    "#         if stackedDFT[1:nbatch*3600//3 + 1,:,:,:].shape == (3600*nbatch//3, 23, 256, 3) and to_categorical(stackedLabels[1:nbatch*3600//3 + 1], num_classes=3).shape == (3600*nbatch//3, 3):\n",
    "#           yield (stackedDFT[1:nbatch*3600//3 + 1,:,:,:],\n",
    "#                  to_categorical(stackedLabels[1:nbatch*3600//3 + 1], num_classes=3))\n",
    "#         stackedDFT = stackedDFT[nbatch*3600//3:,:,:,:]\n",
    "#         stackedLabels = stackedLabels[nbatch*3600:]\n",
    "#         print('extra', stackedDFT.shape, stackedLabels.shape)\n",
    "\n",
    "#       signals, signal_headers, header = highlevel.read_edf(f)\n",
    "#       if signals.shape[-1] % 3600 != 0 or signals.shape[0] != 23:\n",
    "#         rejected.append(f[54:59])\n",
    "#         continue\n",
    "      \n",
    "#       # if signals.shape != (23, 921600):\n",
    "#       #   rejected.append(f[54:59])\n",
    "#       #   continue\n",
    "\n",
    "#       count += 1\n",
    "#       print(f, signals.shape)\n",
    "#       s = int(signals.shape[1]/256)\n",
    "#       signals = np.reshape(signals, (23,256,3,s//3))\n",
    "#       signals = signals.transpose(3,0,1,2)\n",
    "#       stackedDFT = np.concatenate((stackedDFT, np.fft.fft(signals, axis=1)), axis=0)\n",
    "#       genLabels = generateLabels(f)\n",
    "#       stackedLabels = np.concatenate((stackedLabels, genLabels), axis=-1)\n",
    "    \n",
    "    \n",
    "import tensorflow as tf\n",
    "from tensorflow.keras.utils import to_categorical\n",
    "\n",
    "\n",
    "def stackDFTTrain(nbatch=2):\n",
    "    count = 0\n",
    "\n",
    "    stackedDFT = tf.zeros((1, 23, 256, 3), dtype=tf.complex64)\n",
    "    stackedLabels = tf.zeros((1))\n",
    "    rejected = []\n",
    "\n",
    "    while True:\n",
    "        for f in edfFilesTrain:\n",
    "            if stackedDFT.shape[0] >= nbatch * 3600 // 3 + 1:\n",
    "                print(stackedLabels.shape)\n",
    "                if (\n",
    "                    stackedDFT[1 : nbatch * 3600 // 3 + 1, :, :, :].shape\n",
    "                    == (3600 * nbatch // 3, 23, 256, 3)\n",
    "                    and to_categorical(\n",
    "                        stackedLabels[1 : nbatch * 3600 // 3 + 1],\n",
    "                        num_classes=3,\n",
    "                    ).shape\n",
    "                    == (3600 * nbatch // 3, 3)\n",
    "                ):\n",
    "                    return (\n",
    "                        stackedDFT[1 : nbatch * 3600 // 3 + 1, :, :, :],\n",
    "                        to_categorical(\n",
    "                            stackedLabels[1 : nbatch * 3600 // 3 + 1],\n",
    "                            num_classes=3,\n",
    "                        ),\n",
    "                    )\n",
    "                stackedDFT = stackedDFT[nbatch * 3600 // 3 :, :, :, :]\n",
    "                stackedLabels = stackedLabels[nbatch * 3600 :]\n",
    "                print(\"extra\", stackedDFT.shape, stackedLabels.shape)\n",
    "\n",
    "            signals, signal_headers, header = highlevel.read_edf(f)\n",
    "            if (\n",
    "                signals.shape[-1] % 3600 != 0\n",
    "                or signals.shape[0] != 23\n",
    "            ):\n",
    "                rejected.append(f[54:59])\n",
    "                continue\n",
    "\n",
    "            count += 1\n",
    "            print(f, signals.shape)\n",
    "            s = int(signals.shape[1] / 256)\n",
    "            signals = tf.reshape(signals, (23, 256, 3, s // 3))\n",
    "            signals = tf.transpose(signals, (3, 0, 1, 2))\n",
    "            signals = tf.complex(signals, tf.zeros_like(signals))  # Convert to complex64 data type\n",
    "            stackedDFT = tf.concat(\n",
    "                (stackedDFT, tf.cast(tf.signal.fft(signals), tf.complex64)), axis=0\n",
    "            )\n",
    "            genLabels = generateLabels(f)  # Update this based on your implementation\n",
    "            stackedLabels = tf.concat(\n",
    "                (stackedLabels, genLabels), axis=-1\n",
    "            )\n",
    "\n",
    "            \n",
    "            \n",
    "def stackDFTVal(nbatch=1):\n",
    "    count = 0\n",
    "\n",
    "    stackedDFT = tf.zeros((1, 23, 256, 3))\n",
    "    stackedLabels = tf.zeros((1))\n",
    "    rejected = []\n",
    "  \n",
    "    while True:\n",
    "        for f in edfFilesVal:\n",
    "            if stackedDFT.shape[0] >= nbatch * 3600 // 3 + 1:\n",
    "                if (\n",
    "                    stackedDFT[1 : nbatch * 3600 // 3 + 1, :, :, :].shape\n",
    "                    == (3600 * nbatch // 3, 23, 256, 3)\n",
    "                    and tf.keras.utils.to_categorical(\n",
    "                        stackedLabels[1 : nbatch * 3600 // 3 + 1],\n",
    "                        num_classes=3,\n",
    "                    ).shape\n",
    "                    == (3600 * nbatch // 3, 3)\n",
    "                ):\n",
    "                    return (\n",
    "                        stackedDFT[1 : nbatch * 3600 // 3 + 1, :, :, :],\n",
    "                        tf.keras.utils.to_categorical(\n",
    "                            stackedLabels[1 : nbatch * 3600 // 3 + 1],\n",
    "                            num_classes=3,\n",
    "                        ),\n",
    "                    )\n",
    "                stackedDFT = stackedDFT[nbatch * 3600 // 3 :, :, :, :]\n",
    "                stackedLabels = stackedLabels[nbatch * 3600 :]\n",
    "\n",
    "            signals, signal_headers, header = highlevel.read_edf(f)\n",
    "            if (\n",
    "                signals.shape[-1] % 3600 != 0\n",
    "                or signals.shape[0] != 23\n",
    "            ):\n",
    "                rejected.append(f[54:59])\n",
    "                continue\n",
    "\n",
    "            count += 1\n",
    "            print(f, signals.shape)\n",
    "            s = int(signals.shape[1] / 256)\n",
    "            signals = tf.reshape(signals, (23, 256, 3, s // 3))\n",
    "            signals = tf.transpose(signals, (3, 0, 1, 2))\n",
    "            stackedDFT = tf.concat(\n",
    "                (stackedDFT, tf.signal.fft(signals)), axis=0\n",
    "            )\n",
    "            genLabels = generateLabels(f)  # Update this based on your implementation\n",
    "            stackedLabels = tf.concat(\n",
    "                (stackedLabels, genLabels), axis=-1\n",
    "            )\n",
    "\n",
    "\n",
    "# for h in stackDFTVal():\n",
    "#   print(len(h), h[0].shape, h[1].shape)\n",
    "#   break"
   ]
  },
  {
   "cell_type": "markdown",
   "metadata": {
    "id": "bfmaqwpFqIzj"
   },
   "source": [
    "### Time Domain"
   ]
  },
  {
   "cell_type": "code",
   "execution_count": 140,
   "metadata": {
    "id": "hA-SBXUqqC7B"
   },
   "outputs": [],
   "source": [
    "from keras.utils import to_categorical\n",
    "\n",
    "def stackTimeTrain(nbatch = 2):\n",
    "  count = 0\n",
    "\n",
    "  stackedDFT = np.zeros((1, 23, 256, 3))\n",
    "  stackedLabels = np.zeros((1))\n",
    "  rejected   = []\n",
    "\n",
    "  while True:\n",
    "    for f in edfFilesTrain:\n",
    "      # print(f[54:-4])\n",
    "      if stackedDFT.shape[0] >= nbatch*3600//3 + 1:\n",
    "        print(stackedLabels.shape)\n",
    "        if stackedDFT[1:nbatch*3600//3 + 1,:,:,:].shape == (3600*nbatch//3, 23, 256, 3) and to_categorical(stackedLabels[1:nbatch*3600//3 + 1], num_classes=3).shape == (3600*nbatch//3, 3):\n",
    "          yield (stackedDFT[1:nbatch*3600//3 + 1,:,:,:],\n",
    "                 to_categorical(stackedLabels[1:nbatch*3600//3 + 1], num_classes=3))\n",
    "        stackedDFT = stackedDFT[nbatch*3600//3:,:,:,:]\n",
    "        stackedLabels = stackedLabels[nbatch*3600:]\n",
    "        print('extra', stackedDFT.shape, stackedLabels.shape)\n",
    "\n",
    "      signals, signal_headers, header = highlevel.read_edf(f)\n",
    "      if signals.shape[-1] % 3600 != 0 or signals.shape[0] != 23:\n",
    "        rejected.append(f[54:59])\n",
    "        continue\n",
    "      \n",
    "      # if signals.shape != (23, 921600):\n",
    "      #   rejected.append(f[54:59])\n",
    "      #   continue\n",
    "\n",
    "      count += 1\n",
    "      print(f, signals.shape)\n",
    "      s = int(signals.shape[1]/256)\n",
    "      signals = np.reshape(signals, (23,256,3,s//3))\n",
    "      signals = signals.transpose(3,0,1,2)\n",
    "      stackedDFT = np.concatenate((stackedDFT, signals), axis=0)\n",
    "      genLabels = generateLabels(f)\n",
    "      stackedLabels = np.concatenate((stackedLabels, genLabels), axis=-1)\n",
    "    \n",
    "    \n",
    "\n",
    "def stackTimeVal(nbatch = 1):\n",
    "  count = 0\n",
    "\n",
    "  stackedDFT = np.zeros((1, 23, 256, 3))\n",
    "  stackedLabels = np.zeros((1))\n",
    "  rejected   = []\n",
    "\n",
    "  while True:\n",
    "    for f in edfFilesTrain:\n",
    "      # print(f[54:-4])\n",
    "      if stackedDFT.shape[0] >= nbatch*3600//3 + 1:\n",
    "        print(stackedLabels.shape)\n",
    "        if stackedDFT[1:nbatch*3600//3 + 1,:,:,:].shape == (3600*nbatch//3, 23, 256, 3) and to_categorical(stackedLabels[1:nbatch*3600//3 + 1], num_classes=3).shape == (3600*nbatch//3, 3):\n",
    "          yield (stackedDFT[1:nbatch*3600//3 + 1,:,:,:],\n",
    "                 to_categorical(stackedLabels[1:nbatch*3600//3 + 1], num_classes=3))\n",
    "        stackedDFT = stackedDFT[nbatch*3600//3:,:,:,:]\n",
    "        stackedLabels = stackedLabels[nbatch*3600:]\n",
    "        print('extra', stackedDFT.shape, stackedLabels.shape)\n",
    "\n",
    "      signals, signal_headers, header = highlevel.read_edf(f)\n",
    "      if signals.shape[-1] % 3600 != 0 or signals.shape[0] != 23:\n",
    "        rejected.append(f[54:59])\n",
    "        continue\n",
    "      \n",
    "      # if signals.shape != (23, 921600):\n",
    "      #   rejected.append(f[54:59])\n",
    "      #   continue\n",
    "\n",
    "      count += 1\n",
    "      print(f, signals.shape)\n",
    "      s = int(signals.shape[1]/256)\n",
    "      signals = np.reshape(signals, (23,256,3,s//3))\n",
    "      signals = signals.transpose(3,0,1,2)\n",
    "      stackedDFT = np.concatenate((stackedDFT, signals), axis=0)\n",
    "      genLabels = generateLabels(f)\n",
    "      stackedLabels = np.concatenate((stackedLabels, genLabels), axis=-1)\n",
    "     "
   ]
  },
  {
   "cell_type": "markdown",
   "metadata": {
    "id": "iNaW6EddqSax"
   },
   "source": [
    "### Callback class"
   ]
  },
  {
   "cell_type": "code",
   "execution_count": 141,
   "metadata": {
    "id": "EcsfvErjqKy1"
   },
   "outputs": [],
   "source": [
    "\n",
    "import tensorflow as tf\n",
    "from tensorflow.keras.callbacks import Callback\n",
    "\n",
    "# when accuracy reaches ACCURACY_THRESHOLD\n",
    "ACCURACY_THRESHOLD = 0.95\n",
    "\n",
    "class myCallback(Callback):\n",
    "    def on_epoch_end(self, epoch, logs={}):\n",
    "        if logs.get('accuracy') > ACCURACY_THRESHOLD:\n",
    "            print(\"\\nReached %2.2f%% accuracy, so stopping training!!\" % (ACCURACY_THRESHOLD * 100))\n",
    "            self.model.stop_training = True\n",
    "\n",
    "# Instantiate a callback object\n",
    "callbacks = myCallback()\n"
   ]
  },
  {
   "cell_type": "markdown",
   "metadata": {
    "id": "zWHyB4Fyqcps"
   },
   "source": [
    "### Model"
   ]
  },
  {
   "cell_type": "code",
   "execution_count": 145,
   "metadata": {
    "colab": {
     "base_uri": "https://localhost:8080/"
    },
    "id": "scflOuVyqT8Y",
    "outputId": "311cc845-4e7b-44f4-9178-4eecafc05221"
   },
   "outputs": [
    {
     "name": "stdout",
     "output_type": "stream",
     "text": [
      "Model: \"model_5\"\n",
      "_________________________________________________________________\n",
      " Layer (type)                Output Shape              Param #   \n",
      "=================================================================\n",
      " input_6 (InputLayer)        [(None, 23, 256, 3)]      0         \n",
      "                                                                 \n",
      " conv2d_5 (Conv2D)           (None, 19, 252, 16)       1216      \n",
      "                                                                 \n",
      " average_pooling2d_5 (Averag  (None, 9, 126, 16)       0         \n",
      " ePooling2D)                                                     \n",
      "                                                                 \n",
      " flatten_5 (Flatten)         (None, 18144)             0         \n",
      "                                                                 \n",
      " dense_5 (Dense)             (None, 3)                 54435     \n",
      "                                                                 \n",
      "=================================================================\n",
      "Total params: 55,651\n",
      "Trainable params: 55,651\n",
      "Non-trainable params: 0\n",
      "_________________________________________________________________\n",
      "None\n"
     ]
    }
   ],
   "source": [
    "\n",
    "import tensorflow as tf\n",
    "from tensorflow.keras.models import Model\n",
    "from tensorflow.keras.layers import Input, Dense, Conv2D, MaxPooling2D, Flatten, Dropout, AveragePooling2D\n",
    "from tensorflow.keras.utils import to_categorical\n",
    "\n",
    "nBatch = 2\n",
    "\n",
    "in1 = Input(shape=(23, 256, 3))\n",
    "c1 = Conv2D(16, (5,5), activation='relu')(in1)\n",
    "m1 = AveragePooling2D()(c1)\n",
    "fl = Flatten()(m1)\n",
    "o = Dense(3, activation='sigmoid')(fl)\n",
    "\n",
    "model = Model(inputs=in1, outputs=o)\n",
    "print(model.summary())\n"
   ]
  },
  {
   "cell_type": "code",
   "execution_count": 146,
   "metadata": {
    "colab": {
     "base_uri": "https://localhost:8080/",
     "height": 463
    },
    "id": "2Y0uUYW_qY8-",
    "outputId": "74eb324a-2130-4519-e3df-5c3cca99fb60"
   },
   "outputs": [
    {
     "name": "stdout",
     "output_type": "stream",
     "text": [
      "/Users/madhavp/physionet.org/files/chbmit/1.0.0/chb01/chb01_01.edf (23, 921600)\n",
      "/Users/madhavp/physionet.org/files/chbmit/1.0.0/chb01/chb01_02.edf (23, 921600)\n",
      "(7201,)\n"
     ]
    },
    {
     "ename": "KeyboardInterrupt",
     "evalue": "",
     "output_type": "error",
     "traceback": [
      "\u001b[0;31m---------------------------------------------------------------------------\u001b[0m",
      "\u001b[0;31mKeyboardInterrupt\u001b[0m                         Traceback (most recent call last)",
      "\u001b[0;32m/var/folders/fz/6jhdkfr50zg8znkw9c7rz0gm0000gn/T/ipykernel_11354/1633043638.py\u001b[0m in \u001b[0;36m<module>\u001b[0;34m\u001b[0m\n\u001b[1;32m     29\u001b[0m     \u001b[0mstackDFTTrain\u001b[0m\u001b[0;34m(\u001b[0m\u001b[0;34m)\u001b[0m\u001b[0;34m,\u001b[0m\u001b[0;34m\u001b[0m\u001b[0;34m\u001b[0m\u001b[0m\n\u001b[1;32m     30\u001b[0m     \u001b[0mepochs\u001b[0m\u001b[0;34m=\u001b[0m\u001b[0;36m1\u001b[0m\u001b[0;34m,\u001b[0m\u001b[0;34m\u001b[0m\u001b[0;34m\u001b[0m\u001b[0m\n\u001b[0;32m---> 31\u001b[0;31m     \u001b[0mvalidation_data\u001b[0m\u001b[0;34m=\u001b[0m\u001b[0mstackDFTVal\u001b[0m\u001b[0;34m(\u001b[0m\u001b[0;34m)\u001b[0m\u001b[0;34m\u001b[0m\u001b[0;34m\u001b[0m\u001b[0m\n\u001b[0m\u001b[1;32m     32\u001b[0m     \u001b[0;31m# callbacks=[callbacks]\u001b[0m\u001b[0;34m\u001b[0m\u001b[0;34m\u001b[0m\u001b[0m\n\u001b[1;32m     33\u001b[0m )\n",
      "\u001b[0;32m/var/folders/fz/6jhdkfr50zg8znkw9c7rz0gm0000gn/T/ipykernel_11354/3573921916.py\u001b[0m in \u001b[0;36mstackDFTVal\u001b[0;34m(nbatch)\u001b[0m\n\u001b[1;32m    220\u001b[0m                 \u001b[0mstackedLabels\u001b[0m \u001b[0;34m=\u001b[0m \u001b[0mstackedLabels\u001b[0m\u001b[0;34m[\u001b[0m\u001b[0mnbatch\u001b[0m \u001b[0;34m*\u001b[0m \u001b[0;36m3600\u001b[0m \u001b[0;34m:\u001b[0m\u001b[0;34m]\u001b[0m\u001b[0;34m\u001b[0m\u001b[0;34m\u001b[0m\u001b[0m\n\u001b[1;32m    221\u001b[0m \u001b[0;34m\u001b[0m\u001b[0m\n\u001b[0;32m--> 222\u001b[0;31m             \u001b[0msignals\u001b[0m\u001b[0;34m,\u001b[0m \u001b[0msignal_headers\u001b[0m\u001b[0;34m,\u001b[0m \u001b[0mheader\u001b[0m \u001b[0;34m=\u001b[0m \u001b[0mhighlevel\u001b[0m\u001b[0;34m.\u001b[0m\u001b[0mread_edf\u001b[0m\u001b[0;34m(\u001b[0m\u001b[0mf\u001b[0m\u001b[0;34m)\u001b[0m\u001b[0;34m\u001b[0m\u001b[0;34m\u001b[0m\u001b[0m\n\u001b[0m\u001b[1;32m    223\u001b[0m             if (\n\u001b[1;32m    224\u001b[0m                 \u001b[0msignals\u001b[0m\u001b[0;34m.\u001b[0m\u001b[0mshape\u001b[0m\u001b[0;34m[\u001b[0m\u001b[0;34m-\u001b[0m\u001b[0;36m1\u001b[0m\u001b[0;34m]\u001b[0m \u001b[0;34m%\u001b[0m \u001b[0;36m3600\u001b[0m \u001b[0;34m!=\u001b[0m \u001b[0;36m0\u001b[0m\u001b[0;34m\u001b[0m\u001b[0;34m\u001b[0m\u001b[0m\n",
      "\u001b[0;32m~/opt/anaconda3/lib/python3.9/site-packages/pyedflib/highlevel.py\u001b[0m in \u001b[0;36mread_edf\u001b[0;34m(edf_file, ch_nrs, ch_names, digital, verbose)\u001b[0m\n\u001b[1;32m    379\u001b[0m         for i,c in enumerate(tqdm(ch_nrs, desc='Reading Channels',\n\u001b[1;32m    380\u001b[0m                                   disable=not verbose)):\n\u001b[0;32m--> 381\u001b[0;31m             \u001b[0msignal\u001b[0m \u001b[0;34m=\u001b[0m \u001b[0mf\u001b[0m\u001b[0;34m.\u001b[0m\u001b[0mreadSignal\u001b[0m\u001b[0;34m(\u001b[0m\u001b[0mc\u001b[0m\u001b[0;34m,\u001b[0m \u001b[0mdigital\u001b[0m\u001b[0;34m=\u001b[0m\u001b[0mdigital\u001b[0m\u001b[0;34m)\u001b[0m\u001b[0;34m\u001b[0m\u001b[0;34m\u001b[0m\u001b[0m\n\u001b[0m\u001b[1;32m    382\u001b[0m             \u001b[0msignals\u001b[0m\u001b[0;34m.\u001b[0m\u001b[0mappend\u001b[0m\u001b[0;34m(\u001b[0m\u001b[0msignal\u001b[0m\u001b[0;34m)\u001b[0m\u001b[0;34m\u001b[0m\u001b[0;34m\u001b[0m\u001b[0m\n\u001b[1;32m    383\u001b[0m \u001b[0;34m\u001b[0m\u001b[0m\n",
      "\u001b[0;32m~/opt/anaconda3/lib/python3.9/site-packages/pyedflib/edfreader.py\u001b[0m in \u001b[0;36mreadSignal\u001b[0;34m(self, chn, start, n, digital)\u001b[0m\n\u001b[1;32m    714\u001b[0m                 \u001b[0mself\u001b[0m\u001b[0;34m.\u001b[0m\u001b[0mread_digital_signal\u001b[0m\u001b[0;34m(\u001b[0m\u001b[0mchn\u001b[0m\u001b[0;34m,\u001b[0m \u001b[0mstart\u001b[0m\u001b[0;34m,\u001b[0m \u001b[0mn\u001b[0m\u001b[0;34m,\u001b[0m \u001b[0mx\u001b[0m\u001b[0;34m)\u001b[0m\u001b[0;34m\u001b[0m\u001b[0;34m\u001b[0m\u001b[0m\n\u001b[1;32m    715\u001b[0m             \u001b[0;32melse\u001b[0m\u001b[0;34m:\u001b[0m\u001b[0;34m\u001b[0m\u001b[0;34m\u001b[0m\u001b[0m\n\u001b[0;32m--> 716\u001b[0;31m                 \u001b[0mself\u001b[0m\u001b[0;34m.\u001b[0m\u001b[0mreadsignal\u001b[0m\u001b[0;34m(\u001b[0m\u001b[0mchn\u001b[0m\u001b[0;34m,\u001b[0m \u001b[0mstart\u001b[0m\u001b[0;34m,\u001b[0m \u001b[0mn\u001b[0m\u001b[0;34m,\u001b[0m \u001b[0mx\u001b[0m\u001b[0;34m)\u001b[0m\u001b[0;34m\u001b[0m\u001b[0;34m\u001b[0m\u001b[0m\n\u001b[0m\u001b[1;32m    717\u001b[0m             \u001b[0;32mreturn\u001b[0m \u001b[0mx\u001b[0m\u001b[0;34m\u001b[0m\u001b[0;34m\u001b[0m\u001b[0m\n\u001b[1;32m    718\u001b[0m         \u001b[0;32melse\u001b[0m\u001b[0;34m:\u001b[0m\u001b[0;34m\u001b[0m\u001b[0;34m\u001b[0m\u001b[0m\n",
      "\u001b[0;31mKeyboardInterrupt\u001b[0m: "
     ]
    }
   ],
   "source": [
    "\n",
    "\n",
    "import tensorflow as tf\n",
    "from tensorflow.keras.optimizers import SGD\n",
    "from tensorflow.keras.losses import CategoricalCrossentropy\n",
    "\n",
    "model.compile(\n",
    "    optimizer=SGD(),\n",
    "    loss=CategoricalCrossentropy(),\n",
    "    metrics=['accuracy']\n",
    ")\n",
    "\n",
    "testSteps = int(trainData / (16 * 8))\n",
    "valSteps = int(valData / 16)\n",
    "history_cnn = model.fit(\n",
    "    stackDFTTrain(),\n",
    "    epochs=1,\n",
    "    validation_data=stackDFTVal()\n",
    "    # callbacks=[callbacks]\n",
    ")\n"
   ]
  },
  {
   "cell_type": "code",
   "execution_count": null,
   "metadata": {
    "id": "aWxA-UKbqe5V"
   },
   "outputs": [],
   "source": []
  }
 ],
 "metadata": {
  "accelerator": "TPU",
  "colab": {
   "collapsed_sections": [
    "yczFWZbNHDNV"
   ],
   "provenance": []
  },
  "kernelspec": {
   "display_name": "Python 3 (ipykernel)",
   "language": "python",
   "name": "python3"
  },
  "language_info": {
   "codemirror_mode": {
    "name": "ipython",
    "version": 3
   },
   "file_extension": ".py",
   "mimetype": "text/x-python",
   "name": "python",
   "nbconvert_exporter": "python",
   "pygments_lexer": "ipython3",
   "version": "3.9.13"
  }
 },
 "nbformat": 4,
 "nbformat_minor": 1
}

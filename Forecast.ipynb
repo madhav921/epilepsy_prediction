{
 "cells": [
  {
   "cell_type": "code",
   "execution_count": null,
   "id": "ebd6988c",
   "metadata": {},
   "outputs": [],
   "source": [
    "import pandas as pd\n",
    "import numpy as np\n",
    "import matplotlib.pyplot as plt\n",
    "from statsmodels.tsa.arima.model import ARIMA\n",
    "from sklearn.metrics import mean_squared_error\n",
    "from statsmodels.stats.stattools import durbin_watson\n",
    "from statsmodels.stats.diagnostic import acorr_ljungbox\n",
    "from statsmodels.tsa.stattools import acf\n",
    "from statsmodels.tools.eval_measures import meanabs\n",
    "from sklearn.metrics import mean_absolute_error\n",
    "\n",
    "# Load the cleaned data\n",
    "data = pd.read_csv('cleaned_data.csv', parse_dates=['Date'])\n",
    "\n",
    "data.set_index('Date', inplace=True)\n",
    "\n",
    "\n",
    "# Split the data into train and test sets\n",
    "train_size = int(len(data) * 0.9)\n",
    "train_data, test_data = data[:train_size], data[train_size:]\n",
    "\n",
    "# Fit the ARIMA model\n",
    "model = ARIMA(train_data['Quantity'], order=(4, 1, 4))\n",
    "model_fit = model.fit()\n",
    "\n",
    "# Forecast the data\n",
    "forecast = model_fit.predict(start=test_data.index[0], end=test_data.index[-1])\n",
    "\n",
    "# Calculate RMSE\n",
    "rmse = np.sqrt(mean_squared_error(test_data['Quantity'], forecast))\n",
    "\n",
    "# Calculate accuracy\n",
    "accuracy = 100 - (rmse / np.mean(data['Quantity']) * 100)\n",
    "\n",
    "# Print the accuracy\n",
    "print(\"Accuracy:\", accuracy)\n",
    "print(rmse)\n",
    "\n",
    "# Perform the Ljung-Box test\n",
    "lb_test_results = acorr_ljungbox(model_fit.resid)\n",
    "\n",
    "print(lb_test_results)\n",
    "\n",
    "# Plot the forecasted data\n",
    "plt.figure(figsize=(10, 6))\n",
    "plt.plot(data.index, data['Quantity'], label='Actual')\n",
    "plt.plot(forecast.index, forecast, label='Forecast')\n",
    "plt.xlabel('Date')\n",
    "plt.ylabel('Quantity')\n",
    "plt.title('ARIMA Forecast')\n",
    "plt.legend()\n",
    "plt.xticks(rotation=45)  # Rotate x-axis labels for better visibility\n",
    "plt.show()\n",
    "\n"
   ]
  }
 ],
 "metadata": {
  "kernelspec": {
   "display_name": "Python 3 (ipykernel)",
   "language": "python",
   "name": "python3"
  },
  "language_info": {
   "codemirror_mode": {
    "name": "ipython",
    "version": 3
   },
   "file_extension": ".py",
   "mimetype": "text/x-python",
   "name": "python",
   "nbconvert_exporter": "python",
   "pygments_lexer": "ipython3",
   "version": "3.9.13"
  }
 },
 "nbformat": 4,
 "nbformat_minor": 5
}

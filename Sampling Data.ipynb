{
 "cells": [
  {
   "cell_type": "code",
   "execution_count": 2,
   "id": "5ff4cf29",
   "metadata": {},
   "outputs": [],
   "source": [
    "import pandas as pd\n",
    "import numpy as np\n",
    "from sklearn.datasets import make_classification\n",
    "from collections import Counter\n",
    "from imblearn.under_sampling import RandomUnderSampler, ClusterCentroids"
   ]
  },
  {
   "cell_type": "code",
   "execution_count": 6,
   "id": "eace5a0a",
   "metadata": {},
   "outputs": [
    {
     "name": "stdout",
     "output_type": "stream",
     "text": [
      "Original dataset shape Counter({'outcome': 1})\n",
      "Resampled dataset shape Counter({'outcome': 1})\n"
     ]
    }
   ],
   "source": [
    "\n",
    "\n",
    "columns = ['EEG Fp1', 'EEG F3', 'EEG C3', 'EEG P3', 'EEG O1', 'EEG F7', 'EEG T3',\n",
    "       'EEG F9', 'EEG Fz', 'EEG Cz', 'EEG Pz', 'EEG Fp2', 'EEG F4', 'EEG C4',\n",
    "       'EEG P4', 'EEG O2', 'EEG F8', 'EEG T4', 'EEG T6', 'EEG Fc2', 'EEG Fc6',\n",
    "       'EEG Cp6', 'EEG F10']\n",
    "res_col = ['outcome']\n",
    "X = pd.read_csv('/Users/madhavp/DRL/physionet.org/files/siena-scalp-eeg/1.0.0/PN00/PN00-1_out_23.csv', usecols = columns)\n",
    "y = pd.read_csv('/Users/madhavp/DRL/physionet.org/files/siena-scalp-eeg/1.0.0/PN00/PN00-1_out_23.csv', usecols = res_col)\n",
    "print('Original dataset shape %s' % Counter(y))\n",
    "rus = RandomUnderSampler(random_state=42)\n",
    "# rus = ClusterCentroids(random_state=42)\n",
    "X_res, y_res = rus.fit_resample(X, y)\n",
    "print('Resampled dataset shape %s' % Counter(y_res))\n"
   ]
  },
  {
   "cell_type": "code",
   "execution_count": 3,
   "id": "fdd149f2",
   "metadata": {},
   "outputs": [
    {
     "name": "stdout",
     "output_type": "stream",
     "text": [
      "Original dataset shape Counter({'seizure': 1})\n",
      "Resampled dataset shape Counter({'seizure': 1})\n"
     ]
    }
   ],
   "source": [
    "columns = ['FP1-F7', 'F7-T7','T7-P7', 'P7-O1', 'FP1-F3', 'F3-C3', 'C3-P3', 'P3-O1', 'FP2-F4', 'F4-C4', 'C4-P4', 'P4-O2', 'FP2-F8', 'F8-T8', 'T8-P8', 'P8-O2', 'FZ-CZ', 'CZ-PZ']\n",
    "res_col = ['seizure']\n",
    "X = pd.read_csv('CHB.csv', usecols = columns)\n",
    "y = pd.read_csv('CHB.csv', usecols = res_col)\n",
    "print('Original dataset shape %s' % Counter(y))\n",
    "rus = RandomUnderSampler(random_state=42)\n",
    "# rus = ClusterCentroids(random_state=42)\n",
    "X_res, y_res = rus.fit_resample(X, y)\n",
    "print('Resampled dataset shape %s' % Counter(y_res))"
   ]
  },
  {
   "cell_type": "code",
   "execution_count": 7,
   "id": "7534640f",
   "metadata": {},
   "outputs": [
    {
     "name": "stdout",
     "output_type": "stream",
     "text": [
      "(672000, 23) (672000, 1)\n"
     ]
    }
   ],
   "source": [
    "print(X.shape,y.shape)"
   ]
  },
  {
   "cell_type": "code",
   "execution_count": 8,
   "id": "d25e8b4a",
   "metadata": {},
   "outputs": [
    {
     "name": "stdout",
     "output_type": "stream",
     "text": [
      "(562, 23) (562, 1)\n"
     ]
    }
   ],
   "source": [
    "print(X_res.shape,y_res.shape)"
   ]
  },
  {
   "cell_type": "code",
   "execution_count": 9,
   "id": "6a6a76d9",
   "metadata": {},
   "outputs": [],
   "source": [
    "df1 = pd.DataFrame(X_res)\n",
    "df2 = pd.DataFrame(y_res)\n",
    "df_res = pd.concat([df1,df2], axis=1)\n",
    "df_res.to_csv('/Users/madhavp/DRL/physionet.org/files/siena-scalp-eeg/1.0.0/PN00/siena_res.csv')"
   ]
  },
  {
   "cell_type": "code",
   "execution_count": null,
   "id": "1323ac18",
   "metadata": {},
   "outputs": [],
   "source": []
  },
  {
   "cell_type": "code",
   "execution_count": null,
   "id": "58d2a8d9",
   "metadata": {},
   "outputs": [],
   "source": []
  },
  {
   "cell_type": "code",
   "execution_count": 11,
   "id": "b00606e8",
   "metadata": {},
   "outputs": [
    {
     "data": {
      "text/html": [
       "<div>\n",
       "<style scoped>\n",
       "    .dataframe tbody tr th:only-of-type {\n",
       "        vertical-align: middle;\n",
       "    }\n",
       "\n",
       "    .dataframe tbody tr th {\n",
       "        vertical-align: top;\n",
       "    }\n",
       "\n",
       "    .dataframe thead th {\n",
       "        text-align: right;\n",
       "    }\n",
       "</style>\n",
       "<table border=\"1\" class=\"dataframe\">\n",
       "  <thead>\n",
       "    <tr style=\"text-align: right;\">\n",
       "      <th></th>\n",
       "      <th># FP1-F7</th>\n",
       "      <th>C3-P3</th>\n",
       "      <th>C4-P4</th>\n",
       "      <th>CZ-PZ</th>\n",
       "      <th>F3-C3</th>\n",
       "      <th>F4-C4</th>\n",
       "      <th>F7-T7</th>\n",
       "      <th>F8-T8</th>\n",
       "      <th>FP1-F3</th>\n",
       "      <th>FP2-F4</th>\n",
       "      <th>...</th>\n",
       "      <th>P3-O1</th>\n",
       "      <th>P4-O2</th>\n",
       "      <th>P7-O1</th>\n",
       "      <th>P7-T7</th>\n",
       "      <th>P8-O2</th>\n",
       "      <th>T7-FT9</th>\n",
       "      <th>T7-P7</th>\n",
       "      <th>T8-P8-0</th>\n",
       "      <th>T8-P8-1</th>\n",
       "      <th>Outcome</th>\n",
       "    </tr>\n",
       "  </thead>\n",
       "  <tbody>\n",
       "    <tr>\n",
       "      <th>0</th>\n",
       "      <td>0.000020</td>\n",
       "      <td>0.000010</td>\n",
       "      <td>0.000022</td>\n",
       "      <td>0.000037</td>\n",
       "      <td>0.000032</td>\n",
       "      <td>0.000035</td>\n",
       "      <td>0.000016</td>\n",
       "      <td>0.000046</td>\n",
       "      <td>-0.000007</td>\n",
       "      <td>0.000043</td>\n",
       "      <td>...</td>\n",
       "      <td>0.000024</td>\n",
       "      <td>-0.000030</td>\n",
       "      <td>0.000010</td>\n",
       "      <td>-0.000011</td>\n",
       "      <td>-0.000037</td>\n",
       "      <td>0.000008</td>\n",
       "      <td>0.000012</td>\n",
       "      <td>0.000021</td>\n",
       "      <td>0.000021</td>\n",
       "      <td>0.0</td>\n",
       "    </tr>\n",
       "    <tr>\n",
       "      <th>1</th>\n",
       "      <td>0.000022</td>\n",
       "      <td>0.000008</td>\n",
       "      <td>0.000021</td>\n",
       "      <td>0.000039</td>\n",
       "      <td>0.000030</td>\n",
       "      <td>0.000032</td>\n",
       "      <td>0.000015</td>\n",
       "      <td>0.000039</td>\n",
       "      <td>-0.000006</td>\n",
       "      <td>0.000042</td>\n",
       "      <td>...</td>\n",
       "      <td>0.000026</td>\n",
       "      <td>-0.000017</td>\n",
       "      <td>0.000012</td>\n",
       "      <td>-0.000008</td>\n",
       "      <td>-0.000029</td>\n",
       "      <td>0.000010</td>\n",
       "      <td>0.000009</td>\n",
       "      <td>0.000023</td>\n",
       "      <td>0.000023</td>\n",
       "      <td>0.0</td>\n",
       "    </tr>\n",
       "    <tr>\n",
       "      <th>2</th>\n",
       "      <td>0.000021</td>\n",
       "      <td>0.000012</td>\n",
       "      <td>0.000021</td>\n",
       "      <td>0.000040</td>\n",
       "      <td>0.000025</td>\n",
       "      <td>0.000030</td>\n",
       "      <td>0.000013</td>\n",
       "      <td>0.000036</td>\n",
       "      <td>-0.000006</td>\n",
       "      <td>0.000040</td>\n",
       "      <td>...</td>\n",
       "      <td>0.000027</td>\n",
       "      <td>-0.000018</td>\n",
       "      <td>0.000014</td>\n",
       "      <td>-0.000009</td>\n",
       "      <td>-0.000034</td>\n",
       "      <td>0.000012</td>\n",
       "      <td>0.000009</td>\n",
       "      <td>0.000027</td>\n",
       "      <td>0.000027</td>\n",
       "      <td>0.0</td>\n",
       "    </tr>\n",
       "    <tr>\n",
       "      <th>3</th>\n",
       "      <td>0.000019</td>\n",
       "      <td>0.000012</td>\n",
       "      <td>0.000021</td>\n",
       "      <td>0.000039</td>\n",
       "      <td>0.000023</td>\n",
       "      <td>0.000028</td>\n",
       "      <td>0.000013</td>\n",
       "      <td>0.000035</td>\n",
       "      <td>-0.000008</td>\n",
       "      <td>0.000036</td>\n",
       "      <td>...</td>\n",
       "      <td>0.000030</td>\n",
       "      <td>-0.000024</td>\n",
       "      <td>0.000015</td>\n",
       "      <td>-0.000009</td>\n",
       "      <td>-0.000042</td>\n",
       "      <td>0.000009</td>\n",
       "      <td>0.000010</td>\n",
       "      <td>0.000033</td>\n",
       "      <td>0.000033</td>\n",
       "      <td>0.0</td>\n",
       "    </tr>\n",
       "    <tr>\n",
       "      <th>4</th>\n",
       "      <td>0.000019</td>\n",
       "      <td>0.000012</td>\n",
       "      <td>0.000021</td>\n",
       "      <td>0.000036</td>\n",
       "      <td>0.000023</td>\n",
       "      <td>0.000024</td>\n",
       "      <td>0.000012</td>\n",
       "      <td>0.000024</td>\n",
       "      <td>-0.000009</td>\n",
       "      <td>0.000032</td>\n",
       "      <td>...</td>\n",
       "      <td>0.000032</td>\n",
       "      <td>-0.000014</td>\n",
       "      <td>0.000017</td>\n",
       "      <td>-0.000008</td>\n",
       "      <td>-0.000031</td>\n",
       "      <td>0.000009</td>\n",
       "      <td>0.000008</td>\n",
       "      <td>0.000035</td>\n",
       "      <td>0.000035</td>\n",
       "      <td>0.0</td>\n",
       "    </tr>\n",
       "  </tbody>\n",
       "</table>\n",
       "<p>5 rows × 24 columns</p>\n",
       "</div>"
      ],
      "text/plain": [
       "   # FP1-F7     C3-P3     C4-P4     CZ-PZ     F3-C3     F4-C4     F7-T7  \\\n",
       "0  0.000020  0.000010  0.000022  0.000037  0.000032  0.000035  0.000016   \n",
       "1  0.000022  0.000008  0.000021  0.000039  0.000030  0.000032  0.000015   \n",
       "2  0.000021  0.000012  0.000021  0.000040  0.000025  0.000030  0.000013   \n",
       "3  0.000019  0.000012  0.000021  0.000039  0.000023  0.000028  0.000013   \n",
       "4  0.000019  0.000012  0.000021  0.000036  0.000023  0.000024  0.000012   \n",
       "\n",
       "      F8-T8    FP1-F3    FP2-F4  ...     P3-O1     P4-O2     P7-O1     P7-T7  \\\n",
       "0  0.000046 -0.000007  0.000043  ...  0.000024 -0.000030  0.000010 -0.000011   \n",
       "1  0.000039 -0.000006  0.000042  ...  0.000026 -0.000017  0.000012 -0.000008   \n",
       "2  0.000036 -0.000006  0.000040  ...  0.000027 -0.000018  0.000014 -0.000009   \n",
       "3  0.000035 -0.000008  0.000036  ...  0.000030 -0.000024  0.000015 -0.000009   \n",
       "4  0.000024 -0.000009  0.000032  ...  0.000032 -0.000014  0.000017 -0.000008   \n",
       "\n",
       "      P8-O2    T7-FT9     T7-P7   T8-P8-0   T8-P8-1  Outcome  \n",
       "0 -0.000037  0.000008  0.000012  0.000021  0.000021      0.0  \n",
       "1 -0.000029  0.000010  0.000009  0.000023  0.000023      0.0  \n",
       "2 -0.000034  0.000012  0.000009  0.000027  0.000027      0.0  \n",
       "3 -0.000042  0.000009  0.000010  0.000033  0.000033      0.0  \n",
       "4 -0.000031  0.000009  0.000008  0.000035  0.000035      0.0  \n",
       "\n",
       "[5 rows x 24 columns]"
      ]
     },
     "execution_count": 11,
     "metadata": {},
     "output_type": "execute_result"
    }
   ],
   "source": [
    "df = pd.read_csv(\"/Users/madhavp/DRL/chbmit_preprocessed_data.csv\")\n",
    "df.head()"
   ]
  },
  {
   "cell_type": "code",
   "execution_count": 12,
   "id": "07062f0f",
   "metadata": {},
   "outputs": [
    {
     "data": {
      "text/plain": [
       "(2097150, 24)"
      ]
     },
     "execution_count": 12,
     "metadata": {},
     "output_type": "execute_result"
    }
   ],
   "source": [
    "df.shape"
   ]
  },
  {
   "cell_type": "code",
   "execution_count": 13,
   "id": "045c57b8",
   "metadata": {},
   "outputs": [
    {
     "data": {
      "text/plain": [
       "1048575"
      ]
     },
     "execution_count": 13,
     "metadata": {},
     "output_type": "execute_result"
    }
   ],
   "source": [
    "df['Outcome'].value_counts()[0]"
   ]
  },
  {
   "cell_type": "code",
   "execution_count": 14,
   "id": "dc52cc21",
   "metadata": {},
   "outputs": [
    {
     "data": {
      "text/plain": [
       "Index(['# FP1-F7', 'C3-P3', 'C4-P4', 'CZ-PZ', 'F3-C3', 'F4-C4', 'F7-T7',\n",
       "       'F8-T8', 'FP1-F3', 'FP2-F4', 'FP2-F8', 'FT10-T8', 'FT9-FT10', 'FZ-CZ',\n",
       "       'P3-O1', 'P4-O2', 'P7-O1', 'P7-T7', 'P8-O2', 'T7-FT9', 'T7-P7',\n",
       "       'T8-P8-0', 'T8-P8-1', 'Outcome'],\n",
       "      dtype='object')"
      ]
     },
     "execution_count": 14,
     "metadata": {},
     "output_type": "execute_result"
    }
   ],
   "source": [
    "df.columns"
   ]
  },
  {
   "cell_type": "code",
   "execution_count": null,
   "id": "85145e10",
   "metadata": {},
   "outputs": [],
   "source": []
  },
  {
   "cell_type": "code",
   "execution_count": null,
   "id": "d9925f80",
   "metadata": {},
   "outputs": [],
   "source": []
  },
  {
   "cell_type": "code",
   "execution_count": 3,
   "id": "87b3a317",
   "metadata": {},
   "outputs": [],
   "source": [
    "pn01 = pd.read_csv(\"/Users/madhavp/DRL/physionet.org/files/siena-scalp-eeg/1.0.0/PN00/PN00-1.csv\")"
   ]
  },
  {
   "cell_type": "code",
   "execution_count": 4,
   "id": "67b5e662",
   "metadata": {},
   "outputs": [
    {
     "data": {
      "text/plain": [
       "(1344000, 36)"
      ]
     },
     "execution_count": 4,
     "metadata": {},
     "output_type": "execute_result"
    }
   ],
   "source": [
    "pn01.shape"
   ]
  },
  {
   "cell_type": "code",
   "execution_count": null,
   "id": "17c387e5",
   "metadata": {},
   "outputs": [],
   "source": []
  }
 ],
 "metadata": {
  "kernelspec": {
   "display_name": "Python 3 (ipykernel)",
   "language": "python",
   "name": "python3"
  },
  "language_info": {
   "codemirror_mode": {
    "name": "ipython",
    "version": 3
   },
   "file_extension": ".py",
   "mimetype": "text/x-python",
   "name": "python",
   "nbconvert_exporter": "python",
   "pygments_lexer": "ipython3",
   "version": "3.9.13"
  }
 },
 "nbformat": 4,
 "nbformat_minor": 5
}
